{
 "cells": [
  {
   "cell_type": "code",
   "execution_count": 1,
   "metadata": {},
   "outputs": [],
   "source": [
    "import numpy as np\n",
    "import scipy"
   ]
  },
  {
   "cell_type": "code",
   "execution_count": 2,
   "metadata": {},
   "outputs": [],
   "source": [
    "a = np.array([\n",
    "    [1, 1, 0, 0],\n",
    "    [0, 0, 1, 1],\n",
    "    [1, 1, 1, 1],\n",
    "])"
   ]
  },
  {
   "cell_type": "code",
   "execution_count": 4,
   "metadata": {},
   "outputs": [
    {
     "name": "stdout",
     "output_type": "stream",
     "text": [
      "[[ 0.33333333 -0.16666667  0.16666667]\n",
      " [ 0.33333333 -0.16666667  0.16666667]\n",
      " [-0.16666667  0.33333333  0.16666667]\n",
      " [-0.16666667  0.33333333  0.16666667]]\n"
     ]
    }
   ],
   "source": [
    "a_pinv = np.linalg.pinv(a)\n",
    "print(a_pinv)"
   ]
  },
  {
   "cell_type": "code",
   "execution_count": 6,
   "metadata": {},
   "outputs": [
    {
     "data": {
      "text/plain": [
       "array([[ 5.00000000e-01,  5.00000000e-01, -2.77555756e-17,\n",
       "        -2.77555756e-17],\n",
       "       [ 5.00000000e-01,  5.00000000e-01, -5.55111512e-17,\n",
       "        -5.55111512e-17],\n",
       "       [ 1.38777878e-16,  1.38777878e-16,  5.00000000e-01,\n",
       "         5.00000000e-01],\n",
       "       [ 1.38777878e-16,  1.38777878e-16,  5.00000000e-01,\n",
       "         5.00000000e-01]])"
      ]
     },
     "execution_count": 6,
     "metadata": {},
     "output_type": "execute_result"
    }
   ],
   "source": [
    "a_pinv @ a"
   ]
  }
 ],
 "metadata": {
  "kernelspec": {
   "display_name": "Python 3",
   "language": "python",
   "name": "python3"
  },
  "language_info": {
   "codemirror_mode": {
    "name": "ipython",
    "version": 3
   },
   "file_extension": ".py",
   "mimetype": "text/x-python",
   "name": "python",
   "nbconvert_exporter": "python",
   "pygments_lexer": "ipython3",
   "version": "3.12.9"
  }
 },
 "nbformat": 4,
 "nbformat_minor": 2
}
