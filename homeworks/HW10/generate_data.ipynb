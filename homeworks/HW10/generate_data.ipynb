{
 "cells": [
  {
   "cell_type": "markdown",
   "id": "fc104d3a",
   "metadata": {},
   "source": [
    "# Tomography and data augmentation"
   ]
  },
  {
   "cell_type": "markdown",
   "id": "07e286f2",
   "metadata": {},
   "source": [
    "## generating data"
   ]
  },
  {
   "cell_type": "code",
   "execution_count": 1,
   "id": "37416c67",
   "metadata": {},
   "outputs": [],
   "source": [
    "import numpy as np\n",
    "from matplotlib import pyplot as plt\n",
    "from scipy import ndimage, datasets, interpolate\n",
    "import scipy as sp\n",
    "import tqdm\n",
    "import os\n",
    "\n",
    "from utils.image import *\n",
    "import radon_transformation"
   ]
  },
  {
   "cell_type": "code",
   "execution_count": null,
   "id": "137b1321",
   "metadata": {},
   "outputs": [],
   "source": [
    "# Number of training, validation, and test sets\n",
    "num_training_sets = 1000\n",
    "num_validation_sets = 200\n",
    "num_test_sets = 10\n",
    "\n",
    "# Tilt angles\n",
    "angle_list = np.arange(-70, 70, 4)\n",
    "\n",
    "# Image size parameters\n",
    "dim0 = 128\n",
    "dim1 = 128\n",
    "\n",
    "# Random circle min / max radius for creating random shape area (in pixels)\n",
    "rand_circle_rad_min = 3\n",
    "rand_circle_rad_max = 25\n",
    "\n",
    "# Minimum distance from the edge of image for the random shape (in pixels)\n",
    "min_dist_from_edge = 5\n",
    "\n",
    "# Minimum & maximum area (in pixels)\n",
    "min_area = 5000\n",
    "max_area = 11000\n",
    "\n",
    "# Probability of continuing random circle addition for shape generation\n",
    "continue_loop_prob = 0.9\n",
    "\n",
    "# Atomic structure parameters\n",
    "atom_min_dist = 2.0        # Angstrom\n",
    "target_density_dist = 2.5  # Angstrom\n",
    "target_fill_ratio = 0.90\n",
    "pixel_size = 0.4           # Angstrom\n",
    "atom_gauss_sigma = 0.45    # Angstrom\n",
    "\n",
    "crop_half_width = 3  # pixels"
   ]
  }
 ],
 "metadata": {
  "kernelspec": {
   "display_name": "Python 3",
   "language": "python",
   "name": "python3"
  },
  "language_info": {
   "codemirror_mode": {
    "name": "ipython",
    "version": 3
   },
   "file_extension": ".py",
   "mimetype": "text/x-python",
   "name": "python",
   "nbconvert_exporter": "python",
   "pygments_lexer": "ipython3",
   "version": "3.12.9"
  }
 },
 "nbformat": 4,
 "nbformat_minor": 5
}
