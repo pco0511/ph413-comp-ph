{
 "cells": [
  {
   "cell_type": "code",
   "execution_count": null,
   "id": "bd315bd2",
   "metadata": {},
   "outputs": [],
   "source": [
    "from functools import partial\n",
    "import math\n",
    "import os\n",
    "from typing import Callable\n",
    "\n",
    "import tqdm\n",
    "\n",
    "import numpy as np\n",
    "\n",
    "import jax\n",
    "import jax.numpy as jnp\n",
    "\n",
    "import equinox as eqx\n",
    "\n",
    "import optax\n",
    "\n",
    "from jaxtyping import PyTree, Array, Float, PRNGKeyArray\n",
    "\n",
    "import matplotlib.pyplot as plt\n",
    "import matplotlib.patches as mpatches\n",
    "\n",
    "from model import UNet\n",
    "\n",
    "key = jax.random.key(0)"
   ]
  },
  {
   "cell_type": "markdown",
   "id": "fc104d3a",
   "metadata": {},
   "source": [
    "# Load Data"
   ]
  },
  {
   "cell_type": "code",
   "execution_count": null,
   "id": "37416c67",
   "metadata": {},
   "outputs": [],
   "source": [
    "def load_data()"
   ]
  },
  {
   "cell_type": "code",
   "execution_count": null,
   "id": "137b1321",
   "metadata": {},
   "outputs": [],
   "source": []
  }
 ],
 "metadata": {
  "kernelspec": {
   "display_name": "Python 3",
   "language": "python",
   "name": "python3"
  },
  "language_info": {
   "name": "python",
   "version": "3.12.9"
  }
 },
 "nbformat": 4,
 "nbformat_minor": 5
}
