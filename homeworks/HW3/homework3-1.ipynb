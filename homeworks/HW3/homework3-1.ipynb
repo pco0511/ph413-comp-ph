{
 "cells": [
  {
   "cell_type": "code",
   "execution_count": 1,
   "metadata": {},
   "outputs": [],
   "source": [
    "import numpy as np"
   ]
  },
  {
   "cell_type": "markdown",
   "metadata": {},
   "source": [
    "1) Consider the integral\n",
    "$$\n",
    "    I=\\int_0^1\\sin^2\\left(\\sqrt{100x}\\right) dx\n",
    "$$"
   ]
  },
  {
   "cell_type": "markdown",
   "metadata": {},
   "source": [
    "(a) Evaluate the integral using the adaptive trapezoidal method, using 1 integration slice (`h` = 1 in that case) and 16 iterations. Plot iterations VS computed values "
   ]
  },
  {
   "cell_type": "code",
   "execution_count": null,
   "metadata": {},
   "outputs": [],
   "source": [
    "def trapezoidal(f, partitions):\n",
    "    N = len(partitions) - 1\n",
    "    diff = np.diff(partitions)\n",
    "    return (f(a) + f(b)) / 2.0\n",
    "\n",
    "def adaptive_trapezoidal_iteration(f, a, b, n_iter, true_value=None):\n",
    "    T_initial = trapezoidal(f, a, b)\n",
    "    \n",
    "    \n",
    "    "
   ]
  }
 ],
 "metadata": {
  "kernelspec": {
   "display_name": "Python 3",
   "language": "python",
   "name": "python3"
  },
  "language_info": {
   "codemirror_mode": {
    "name": "ipython",
    "version": 3
   },
   "file_extension": ".py",
   "mimetype": "text/x-python",
   "name": "python",
   "nbconvert_exporter": "python",
   "pygments_lexer": "ipython3",
   "version": "3.12.9"
  }
 },
 "nbformat": 4,
 "nbformat_minor": 2
}
