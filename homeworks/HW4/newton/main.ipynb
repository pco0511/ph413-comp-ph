{
 "cells": [
  {
   "cell_type": "markdown",
   "metadata": {},
   "source": []
  },
  {
   "cell_type": "markdown",
   "metadata": {},
   "source": [
    "# Assignment 1 (Modified Exercise 6.8: The QR algorithm)"
   ]
  },
  {
   "cell_type": "markdown",
   "metadata": {},
   "source": [
    "In this exercise you’ll write a program to calculate the eigenvalues and eigenvectors of a real symmetric matrix\n",
    "using the QR algorithm. The first challenge is to write a program that find the QR decomposition of a matrix.\n",
    "Then we’ll use that decomposition to find the eigenvalues.\n",
    "\n",
    "As described above, the QR decomposition expresses a real square matrix $\\mathbf A$ in the form $\\mathbf A = \\mathbf Q\\mathbf R$,\n",
    "where $\\mathbf A$ is an orthogonal matrix and $\\mathbf R$ is an upper-triangular matrix. Given an $N\\times N$ matrix $\\mathbf A$ we can\n",
    "compute the QR decomposition as follows.\n",
    "\n",
    "Let us think of the matrix as a set of $N$ column vectors $\\mathbf a_0, ..., \\mathbf a_{N-1}$ thus:\n",
    "\n",
    "$$\\mathbf A = \\begin{pmatrix}\n",
    "| & | & | & \\cdots \\\\\n",
    "\\mathbf a_0 & \\mathbf a_1 & \\mathbf a_2 & \\cdots \\\\\n",
    "| & | & | & \\cdots\n",
    "\\end{pmatrix}$$\n",
    "\n",
    "where we have numbered the vectors in Python fashion, starting from zero, which will be convenient when writing\n",
    "the program. We now define two new sets of vectors\n",
    "\n",
    "$\\mathbf u_0, ..., \\mathbf u_{N-1}$ and $\\mathbf q_0, ..., \\mathbf q_{N-1}$  as follows:\n",
    "\n",
    "\\begin{align}\n",
    "    &\\mathbf u_0 = \\mathbf a_0, &\\mathbf q_0=\\frac{\\mathbf u_0}{\\|\\mathbf u_0\\|} \\\\\n",
    "    &\\mathbf u_0 = \\mathbf a_1 - (\\mathbf q_0 \\cdot \\mathbf a_1)\\mathbf q_0, &\\mathbf q_1=\\frac{\\mathbf u_1}{\\|\\mathbf u_1\\|} \\\\\n",
    "    &\\mathbf u_0 = \\mathbf a_2 - (\\mathbf q_0 \\cdot \\mathbf a_2)\\mathbf q_0 - (\\mathbf q_1 \\cdot \\mathbf a_2)\\mathbf q_1, &\\mathbf q_2=\\frac{\\mathbf u_2}{\\|\\mathbf u_2\\|} \\\\\n",
    "\\end{align}\n",
    "\n",
    "and so forth. The general formulas or calculating $\\mathbf u_i$ and $\\mathbf q_i$ are\n",
    "\n",
    "$$\n",
    "u_i = a_i - \\sum_{j=0}^{i - 1} (\\mathbf q_j\\cdot\\mathbf a_i)\\mathbf q_j, \\quad q_i=\\frac{}\n",
    "$$"
   ]
  },
  {
   "cell_type": "code",
   "execution_count": null,
   "metadata": {},
   "outputs": [],
   "source": []
  }
 ],
 "metadata": {
  "language_info": {
   "name": "python"
  }
 },
 "nbformat": 4,
 "nbformat_minor": 2
}
