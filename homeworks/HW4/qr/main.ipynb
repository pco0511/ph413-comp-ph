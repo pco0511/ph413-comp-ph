{
 "cells": [
  {
   "cell_type": "markdown",
   "metadata": {},
   "source": [
    "# Assignment 1 (Modified Exercise 6.8: The QR algorithm)"
   ]
  },
  {
   "cell_type": "code",
   "execution_count": 20,
   "metadata": {},
   "outputs": [],
   "source": [
    "import numpy as np\n",
    "\n",
    "\n",
    "np.set_printoptions(precision=4)"
   ]
  },
  {
   "cell_type": "markdown",
   "metadata": {},
   "source": [
    "In this exercise you’ll write a program to calculate the eigenvalues and eigenvectors of a real symmetric matrix\n",
    "using the QR algorithm. The first challenge is to write a program that find the QR decomposition of a matrix.\n",
    "Then we’ll use that decomposition to find the eigenvalues.\n",
    "\n",
    "As described above, the QR decomposition expresses a real square matrix $\\mathbf A$ in the form $\\mathbf A = \\mathbf Q\\mathbf R$,\n",
    "where $\\mathbf A$ is an orthogonal matrix and $\\mathbf R$ is an upper-triangular matrix. Given an $N\\times N$ matrix $\\mathbf A$ we can\n",
    "compute the QR decomposition as follows.\n",
    "\n",
    "Let us think of the matrix as a set of $N$ column vectors $\\mathbf a_0, ..., \\mathbf a_{N-1}$ thus:\n",
    "\n",
    "$$\\mathbf A = \\begin{pmatrix}\n",
    "| & | & | & \\cdots \\\\\n",
    "\\mathbf a_0 & \\mathbf a_1 & \\mathbf a_2 & \\cdots \\\\\n",
    "| & | & | & \\cdots\n",
    "\\end{pmatrix}$$\n",
    "\n",
    "where we have numbered the vectors in Python fashion, starting from zero, which will be convenient when writing\n",
    "the program. We now define two new sets of vectors\n",
    "\n",
    "$\\mathbf u_0, ..., \\mathbf u_{N-1}$ and $\\mathbf q_0, ..., \\mathbf q_{N-1}$  as follows:\n",
    "\n",
    "\\begin{align}\n",
    "    &\\mathbf u_0 = \\mathbf a_0, &\\mathbf q_0=\\frac{\\mathbf u_0}{\\|\\mathbf u_0\\|} \\\\\n",
    "    &\\mathbf u_0 = \\mathbf a_1 - (\\mathbf q_0 \\cdot \\mathbf a_1)\\mathbf q_0, &\\mathbf q_1=\\frac{\\mathbf u_1}{\\|\\mathbf u_1\\|} \\\\\n",
    "    &\\mathbf u_0 = \\mathbf a_2 - (\\mathbf q_0 \\cdot \\mathbf a_2)\\mathbf q_0 - (\\mathbf q_1 \\cdot \\mathbf a_2)\\mathbf q_1, &\\mathbf q_2=\\frac{\\mathbf u_2}{\\|\\mathbf u_2\\|} \\\\\n",
    "\\end{align}\n",
    "\n",
    "and so forth. The general formulas or calculating $\\mathbf u_i$ and $\\mathbf q_i$ are\n",
    "\n",
    "$$\n",
    "\\mathbf u_i = \\mathbf a_i - \\sum_{j=0}^{i - 1} (\\mathbf q_j\\cdot\\mathbf a_i)\\mathbf q_j, \\quad \\mathbf q_i=\\frac{\\mathbf u_i}{\\|\\mathbf u_i\\|}\n",
    "$$\n",
    "\n",
    "Here, the vectors $\\mathbf q_i$ are orthonormal, i.e., that they satisfy\n",
    "$$\n",
    "\\mathbf q_i\\cdot\\mathbf q_j = \\begin{cases}1 & \\text{if $i = j$} \\\\ 0 & \\text{if $i\\neq j$}\\end{cases}\n",
    "$$\n",
    "\n",
    "Now, rearranging the definition of the vectors, we have\n",
    "\n",
    "\\begin{aligned}\n",
    "\\mathbf a_0 &= \\| \\mathbf u_0 \\| \\mathbf q_0,\\\\\n",
    "\\mathbf a_1 &= \\| \\mathbf u_1 \\| \\mathbf q_1 + (\\mathbf q_0 \\cdot \\mathbf a_1) \\, \\mathbf q_0,\\\\\n",
    "\\mathbf a_2 &= \\| \\mathbf u_2 \\| \\mathbf q_2 + (\\mathbf q_0 \\cdot \\mathbf a_2) \\, \\mathbf q_0 + (\\mathbf q_1 \\cdot \\mathbf a_2) \\, \\mathbf q_1,\n",
    "\\end{aligned}\n",
    "\n",
    "and so on. Or we can group the vectors $\\mathbf q_i$ together as the columns of a matrix and write all of these equations as\n",
    "a single matrix equation\n",
    "\n",
    "$$\\mathbf A = \n",
    "\\begin{pmatrix}\n",
    "| & | & | & \\cdots \\\\\n",
    "\\mathbf a_0 & \\mathbf a_1 & \\mathbf a_2 & \\cdots \\\\\n",
    "| & | & | & \\cdots\n",
    "\\end{pmatrix}\n",
    "=\n",
    "\\begin{pmatrix}\n",
    "| & | & | & \\cdots \\\\\n",
    "\\mathbf q_0 & \\mathbf q_1 & \\mathbf q_2 & \\cdots \\\\\n",
    "| & | & | & \\cdots\n",
    "\\end{pmatrix}\n",
    "\\begin{pmatrix}\n",
    "\\|\\mathbf u_0\\| & \\mathbf q_0\\cdot\\mathbf a_1 & \\mathbf q_0\\cdot\\mathbf a_2 & \\cdots \\\\\n",
    "0 & \\|\\mathbf u_1\\| & \\mathbf q_1\\cdot\\mathbf a_2 & \\cdots \\\\\n",
    "0 & 0 & \\|\\mathbf u_2\\| & \\cdots \\\\\n",
    "\\vdots & \\vdots & \\vdots & \\ddots\n",
    "\\end{pmatrix}\n",
    "$$\n",
    "(If this looks complicated it's worth multiplying out the matrices on the right to verify for yourself that you get\n",
    "the correct expressions for the $\\mathbf a_i$.)\n",
    "\n",
    "Notice now that the first matrix on the right-hand side of this equation, the matrix with columns $\\mathbf q_i$, is\n",
    "orthogonal, because the vectors $\\mathbf q_i$ are orthonormal, and the second matrix is upper triangular. In other words,\n",
    "we have found the QR decomposition $\\mathbf A = \\mathbf Q\\mathbf R$. The matrices $\\mathbf Q$ and $\\mathbf R$ are\n",
    "\n",
    "$$\n",
    "\\mathbf Q=\\begin{pmatrix}\n",
    "| & | & | & \\cdots \\\\\n",
    "\\mathbf q_0 & \\mathbf q_1 & \\mathbf q_2 & \\cdots \\\\\n",
    "| & | & | & \\cdots\n",
    "\\end{pmatrix}\n",
    "\\quad\n",
    "\\mathbf R=\\begin{pmatrix}\n",
    "\\|\\mathbf u_0\\| & \\mathbf q_0\\cdot\\mathbf a_1 & \\mathbf q_0\\cdot\\mathbf a_2 & \\cdots \\\\\n",
    "0 & \\|\\mathbf u_1\\| & \\mathbf q_1\\cdot\\mathbf a_2 & \\cdots \\\\\n",
    "0 & 0 & \\|\\mathbf u_2\\| & \\cdots \\\\\n",
    "\\vdots & \\vdots & \\vdots & \\ddots\n",
    "\\end{pmatrix}\n",
    "$$\n"
   ]
  },
  {
   "cell_type": "markdown",
   "metadata": {},
   "source": [
    "1-1) Write a Python function that takes as its argument a real square matrix $\\mathbf A$ and returns the two matrices $\\mathbf Q$ and $\\mathbf R$ that forms its QR decomposition. As a test case, try out your function on the matrix\n",
    "\n",
    "$$\n",
    "A = \\begin{pmatrix}\n",
    "1 & 4 & 8 & 4 \\\\\n",
    "4 & 2 & 3 & 7 \\\\\n",
    "8 & 3 & 6 & 9 \\\\\n",
    "4 & 7 & 9 & 2\n",
    "\\end{pmatrix}\n",
    "$$\n",
    "\n",
    "Check the results by multiplying $\\mathbf Q$ and $\\mathbf R$ together to recover the original matrix $\\mathbf A$ again."
   ]
  },
  {
   "cell_type": "code",
   "execution_count": null,
   "metadata": {},
   "outputs": [],
   "source": [
    "def qr_decompose(A):\n",
    "    m, n = A.shape\n",
    "    Q = np.zeros((m, n))\n",
    "    R = np.zeros((n, n))\n",
    "    \n",
    "    for j in range(n):\n",
    "        v = A[:, j].copy()\n",
    "        for i in range(j):\n",
    "            R[i, j] = np.sum(Q[:, i] * A[:, j])\n",
    "            v = v - R[i, j] * Q[:, i]\n",
    "        R[j, j] = np.linalg.norm(v)\n",
    "        if R[j, j] == 0:\n",
    "            raise ValueError(\"columns of A are not linearly independent.\")\n",
    "        Q[:, j] = v / R[j, j]\n",
    "    \n",
    "    return Q, R"
   ]
  },
  {
   "cell_type": "code",
   "execution_count": 22,
   "metadata": {},
   "outputs": [],
   "source": [
    "A = np.array(\n",
    "    [[1, 4, 8, 4],\n",
    "     [4, 2, 3, 7],\n",
    "     [8, 3, 6, 9],\n",
    "     [4, 7, 9, 2]]\n",
    ")\n",
    "Q, R = qr_decompose(A)"
   ]
  },
  {
   "cell_type": "code",
   "execution_count": 23,
   "metadata": {},
   "outputs": [
    {
     "data": {
      "text/plain": [
       "array([[ 0.1015,  0.5585,  0.8098,  0.1484],\n",
       "       [ 0.4061, -0.1069, -0.1415,  0.8964],\n",
       "       [ 0.8123, -0.3809,  0.23  , -0.3771],\n",
       "       [ 0.4061,  0.7291, -0.5209, -0.1793]])"
      ]
     },
     "execution_count": 23,
     "metadata": {},
     "output_type": "execute_result"
    }
   ],
   "source": [
    "Q"
   ]
  },
  {
   "cell_type": "code",
   "execution_count": 24,
   "metadata": {},
   "outputs": [
    {
     "data": {
      "text/plain": [
       "array([[ 9.8489,  6.4982, 10.5596, 11.3719],\n",
       "       [ 0.    ,  5.9811,  8.4235, -0.4843],\n",
       "       [ 0.    ,  0.    ,  2.7459,  3.2767],\n",
       "       [ 0.    ,  0.    ,  0.    ,  3.1159]])"
      ]
     },
     "execution_count": 24,
     "metadata": {},
     "output_type": "execute_result"
    }
   ],
   "source": [
    "R"
   ]
  },
  {
   "cell_type": "markdown",
   "metadata": {},
   "source": [
    "Check $\\mathbf Q^\\top\\mathbf Q = \\mathbf I$"
   ]
  },
  {
   "cell_type": "code",
   "execution_count": 25,
   "metadata": {},
   "outputs": [
    {
     "name": "stdout",
     "output_type": "stream",
     "text": [
      "[[ 1. -0. -0. -0.]\n",
      " [-0.  1.  0. -0.]\n",
      " [-0.  0.  1.  0.]\n",
      " [-0. -0.  0.  1.]]\n"
     ]
    }
   ],
   "source": [
    "with np.printoptions(suppress=True):\n",
    "    print(Q.T @ Q)"
   ]
  },
  {
   "cell_type": "markdown",
   "metadata": {},
   "source": [
    "Check $\\mathbf Q \\mathbf R = \\mathbf A$"
   ]
  },
  {
   "cell_type": "code",
   "execution_count": 26,
   "metadata": {},
   "outputs": [
    {
     "name": "stdout",
     "output_type": "stream",
     "text": [
      "[[1. 4. 8. 4.]\n",
      " [4. 2. 3. 7.]\n",
      " [8. 3. 6. 9.]\n",
      " [4. 7. 9. 2.]]\n"
     ]
    }
   ],
   "source": [
    "print(Q @ R)"
   ]
  },
  {
   "cell_type": "markdown",
   "metadata": {},
   "source": [
    "1-2) Using your function, write a complete program to calculate the eigenvalues and eigenvectors of a real symmetric matrix using the QR algorithm. Continue the calculation until the magnitude of every off-diagonal element of the matrix is smaller than $10^{-6}$. Test your program on the example matrix above. You\n",
    "should find that the eigenvalues are 1, 21, −3, and −8."
   ]
  },
  {
   "cell_type": "code",
   "execution_count": 27,
   "metadata": {},
   "outputs": [],
   "source": [
    "def eigh_by_qr(A, threshold = 1e-6, max_iterations = 80):\n",
    "    Q, R = qr_decompose(A)\n",
    "    U = Q.copy()\n",
    "    for _ in range(max_iterations):\n",
    "        B = R @ Q\n",
    "        if np.allclose(B, np.diag(np.diag(B)), rtol=0., atol=threshold):\n",
    "            return np.diag(B), U\n",
    "        Q[:, :], R[:, :] = qr_decompose(B)\n",
    "        U[:, :] = U @ Q\n",
    "        \n",
    "        \n",
    "    print(f\"maximum iteration(={max_iterations}) is reached.\")\n",
    "    return np.diag(R @ Q), U"
   ]
  },
  {
   "cell_type": "code",
   "execution_count": 32,
   "metadata": {},
   "outputs": [
    {
     "name": "stdout",
     "output_type": "stream",
     "text": [
      "[[ 1. -0.  0. -0.]\n",
      " [-0.  1. -0. -0.]\n",
      " [ 0. -0.  1.  0.]\n",
      " [-0. -0.  0.  1.]]\n",
      "[[1. 4. 8. 4.]\n",
      " [4. 2. 3. 7.]\n",
      " [8. 3. 6. 9.]\n",
      " [4. 7. 9. 2.]]\n"
     ]
    },
    {
     "data": {
      "text/plain": [
       "(array([-8., -3.,  1., 21.]), array([-8., -3.,  1., 21.]))"
      ]
     },
     "execution_count": 32,
     "metadata": {},
     "output_type": "execute_result"
    }
   ],
   "source": [
    "eigenvalue, eigenvectors = eigh_by_qr(A)\n",
    "eigenvalue_np, eigenvectors_np = np.linalg.eigh(A)\n",
    "\n",
    "with np.printoptions(suppress=True):\n",
    "    print(eigenvectors @ eigenvectors.T)\n",
    "    print(eigenvectors @ np.diag(eigenvalue) @ eigenvectors.T)\n",
    "    \n",
    "np.sort(eigenvalue), np.sort(eigenvalue_np)"
   ]
  }
 ],
 "metadata": {
  "kernelspec": {
   "display_name": "Python 3",
   "language": "python",
   "name": "python3"
  },
  "language_info": {
   "codemirror_mode": {
    "name": "ipython",
    "version": 3
   },
   "file_extension": ".py",
   "mimetype": "text/x-python",
   "name": "python",
   "nbconvert_exporter": "python",
   "pygments_lexer": "ipython3",
   "version": "3.12.9"
  }
 },
 "nbformat": 4,
 "nbformat_minor": 2
}
