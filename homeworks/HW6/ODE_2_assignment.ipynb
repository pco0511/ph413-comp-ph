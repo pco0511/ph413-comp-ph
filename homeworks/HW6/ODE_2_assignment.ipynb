{
 "cells": [
  {
   "cell_type": "markdown",
   "metadata": {
    "collapsed": false
   },
   "source": [
    "### Solve cavity flow governed by Navier-Stokes equation. using PINNs (Under simple setting)\n",
    "Goal : using PINNs, predicts $(\\psi, p)$ for the input $(x,y)$\n"
   ]
  },
  {
   "cell_type": "markdown",
   "metadata": {},
   "source": [
    "Classical Navier-Stokes equation in 2D, Incompressible Navier-Stokes equations with constant viscosity (ignore external force)\n",
    "\\begin{gather}\n",
    "\\boldsymbol{u}_t + (\\boldsymbol{u} \\cdot \\nabla)\\boldsymbol{u} + \\nabla \\boldsymbol{p}/\\rho - \\nu \\nabla^2 \\boldsymbol{u}\\\\\n",
    "\\nabla \\cdot \\boldsymbol{u} = 0, \\quad \\text{where} \\quad \\boldsymbol{u}\\equiv(u,v)\n",
    "\\end{gather}\n",
    "If steady state $u_t = 0$\n",
    "\\begin{align}\n",
    "u_x + v_y &= 0\\\\\n",
    "u u_x + v u_y + p_x/\\rho - \\nu(u_{xx} + u_{yy}) &= 0\\\\\n",
    "u v_x + v v_y + p_y/\\rho - \\nu(v_{xx} + v_{yy}) &= 0\\\\\n",
    "\\end{align}\n",
    "boundary condition\n",
    "\n",
    "$\\{x,y\\} \\in \\{0,1\\}\\times\\{0,1\\}$\n",
    "\n",
    "$(u,v)=(1,0)$ for $y=0$ and $(u,v)=(0,0)$ for other boundaries.\n",
    "\n",
    "For simplify, define stream function $ (u, v) = (\\psi_y, -\\psi_x)$"
   ]
  },
  {
   "cell_type": "code",
   "execution_count": null,
   "metadata": {},
   "outputs": [],
   "source": [
    "# YOUR CODE HERE (30pts)\n",
    "\n",
    "# YOUR GENERATE TRAINING SET CODE HERE\n"
   ]
  },
  {
   "cell_type": "code",
   "execution_count": null,
   "metadata": {},
   "outputs": [],
   "source": [
    "# YOUR CODE HERE (30pts)\n",
    "\n",
    "# YOUR NEURAL NETWORK DESIGN AND LOSS WITH RESIDUAL CODE HERE"
   ]
  },
  {
   "cell_type": "code",
   "execution_count": null,
   "metadata": {},
   "outputs": [],
   "source": [
    "# YOUR CODE HERE (30pts)\n",
    "\n",
    "# YOUR TRAINING NEURAL NETWORK CODE HERE"
   ]
  },
  {
   "cell_type": "code",
   "execution_count": null,
   "metadata": {},
   "outputs": [],
   "source": [
    "# VISUALIZATION (10pts)\n",
    "\n",
    "# YOUR VISUALIZATION CODE HERE"
   ]
  }
 ],
 "metadata": {
  "accelerator": "GPU",
  "colab": {
   "authorship_tag": "ABX9TyP/rs5jhzH+IhCX/gXWwT+H",
   "gpuType": "T4",
   "name": "",
   "version": ""
  },
  "kernelspec": {
   "display_name": "Python 3",
   "language": "python",
   "name": "python3"
  },
  "language_info": {
   "codemirror_mode": {
    "name": "ipython",
    "version": 3
   },
   "file_extension": ".py",
   "mimetype": "text/x-python",
   "name": "python",
   "nbconvert_exporter": "python",
   "pygments_lexer": "ipython3",
   "version": "3.12.9"
  }
 },
 "nbformat": 4,
 "nbformat_minor": 0
}
