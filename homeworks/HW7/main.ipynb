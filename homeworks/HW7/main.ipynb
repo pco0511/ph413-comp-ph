{
 "cells": [
  {
   "cell_type": "code",
   "execution_count": 2,
   "metadata": {},
   "outputs": [],
   "source": [
    "import numpy as np\n",
    "import matplotlib.pyplot as plt"
   ]
  },
  {
   "cell_type": "code",
   "execution_count": null,
   "metadata": {},
   "outputs": [],
   "source": [
    "def trapezoidal(xis, y, axis=-1):\n",
    "    if x.ndim == 1:\n",
    "        dim = 1\n",
    "        x = x[:, np.newaxis]\n",
    "    else:\n",
    "        dim = x.shape[-1]\n",
    "        if dim + 1!= x.ndim:\n",
    "            raise ValueError(\"invalid x array\")\n",
    "        if dim != y.ndim:\n",
    "            raise ValueError(\"x and y are imcompatible.\")\n",
    "        \n",
    "    x = \n",
    "    \n",
    "    axis = (dim - axis) if axis < 0 else axis\n",
    "    \n",
    "    diff = np.diff(x, axis=axis)[..., axis]\n",
    "    \n",
    "    idx = [slice(None)] * dim\n",
    "    idx[axis] = slice(None, -1)\n",
    "    left_y = y[tuple(idx)]\n",
    "    \n",
    "    idx[axis] = slice(1, None)\n",
    "    right_y = y[tuple(idx)]\n",
    "    \n",
    "    pieces = ((left_y + right_y) / 2) * diff\n",
    "    \n",
    "    return np.sum(pieces)\n",
    "\n",
    "def simpson(f, a, b, N):\n",
    "    pass\n",
    "\n",
    "def montecarlo(f, random_gen):\n",
    "    pass"
   ]
  },
  {
   "cell_type": "markdown",
   "metadata": {},
   "source": [
    "$$f(x)=\\sin^2\\left[\\frac{1}{x(2-x)}\\right]$$"
   ]
  },
  {
   "cell_type": "code",
   "execution_count": null,
   "metadata": {},
   "outputs": [],
   "source": []
  },
  {
   "cell_type": "markdown",
   "metadata": {},
   "source": [
    "### 1.a Trapzoidal rule"
   ]
  },
  {
   "cell_type": "code",
   "execution_count": null,
   "metadata": {},
   "outputs": [],
   "source": []
  }
 ],
 "metadata": {
  "kernelspec": {
   "display_name": "base",
   "language": "python",
   "name": "python3"
  },
  "language_info": {
   "codemirror_mode": {
    "name": "ipython",
    "version": 3
   },
   "file_extension": ".py",
   "mimetype": "text/x-python",
   "name": "python",
   "nbconvert_exporter": "python",
   "pygments_lexer": "ipython3",
   "version": "3.12.8"
  }
 },
 "nbformat": 4,
 "nbformat_minor": 2
}
