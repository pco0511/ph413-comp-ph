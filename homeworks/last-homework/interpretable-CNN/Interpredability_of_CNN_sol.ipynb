{
 "cells": [
  {
   "cell_type": "markdown",
   "id": "34dd307c",
   "metadata": {},
   "source": [
    "# Interpretability of CNN\n",
    "\n",
    "We have learned that convolutional kernels in CNNs learn local patterns in images, but in general, the learned kernels of CNNs are rarely interpretable by humans. Nevertheless, very simple toy problems can sometimes show interpretable learning results. In this assignment, we will train a CNN classifier on a very simple dataset, the MNIST handwriting dataset, and examine the learned kernels."
   ]
  },
  {
   "cell_type": "code",
   "execution_count": 1,
   "id": "b1972a96",
   "metadata": {},
   "outputs": [
    {
     "name": "stdout",
     "output_type": "stream",
     "text": [
      "Using device: cuda\n"
     ]
    }
   ],
   "source": [
    "import numpy as np\n",
    "import torch\n",
    "from torch.utils.data import Dataset, DataLoader\n",
    "from torch import nn, optim\n",
    "from torchvision import datasets, transforms\n",
    "import matplotlib.pyplot as plt\n",
    "\n",
    "# Set random seeds for reproducibility\n",
    "torch.manual_seed(0)\n",
    "np.random.seed(0)\n",
    "\n",
    "device = torch.device(\"cuda\" if torch.cuda.is_available() else \"cpu\")\n",
    "print(f\"Using device: {device}\")"
   ]
  },
  {
   "cell_type": "markdown",
   "id": "a5b9aecd",
   "metadata": {},
   "source": [
    "## Tiny toy problem\n",
    "\n",
    "Generate images with horizontal and vertical lines and train a CNN model to classify whether the image has horizontal or vertical lines."
   ]
  },
  {
   "cell_type": "code",
   "execution_count": 2,
   "id": "54cb6c7d",
   "metadata": {},
   "outputs": [],
   "source": [
    "class LineDataset(Dataset):\n",
    "    \"\"\"Synthetic images containing a single horizontal or vertical line.\"\"\"\n",
    "    def __init__(self, n_samples: int = 1000, img_size: int = 16):\n",
    "        self.img_size = img_size\n",
    "        self.X = []\n",
    "        self.y = []\n",
    "        rng = np.random.default_rng(seed=0)\n",
    "\n",
    "        for _ in range(n_samples):\n",
    "            img = np.zeros((img_size, img_size), dtype=np.float32)\n",
    "            if rng.random() < 0.5:\n",
    "                # class 0: horizontal line\n",
    "                row = rng.integers(0, img_size)\n",
    "                img[row, :] = 1.0\n",
    "                label = 0\n",
    "            else:\n",
    "                # class 1: vertical line\n",
    "                col = rng.integers(0, img_size)\n",
    "                img[:, col] = 1.0\n",
    "                label = 1\n",
    "\n",
    "            img += 0.05 * rng.standard_normal(size=img.shape)\n",
    "            img = np.clip(img, 0, 1)\n",
    "\n",
    "            self.X.append(img[None, :, :])  # (1, H, W)\n",
    "            self.y.append(label)\n",
    "\n",
    "        self.X = torch.tensor(self.X)\n",
    "        self.y = torch.tensor(self.y)\n",
    "\n",
    "    def __len__(self):\n",
    "        return len(self.y)\n",
    "\n",
    "    def __getitem__(self, idx):\n",
    "        return self.X[idx], self.y[idx]"
   ]
  },
  {
   "cell_type": "code",
   "execution_count": null,
   "id": "7fc31e06",
   "metadata": {},
   "outputs": [
    {
     "name": "stderr",
     "output_type": "stream",
     "text": [
      "C:\\Users\\pco0511\\AppData\\Local\\Temp\\ipykernel_42240\\2378841583.py:28: UserWarning: Creating a tensor from a list of numpy.ndarrays is extremely slow. Please consider converting the list to a single numpy.ndarray with numpy.array() before converting to a tensor. (Triggered internally at C:\\actions-runner\\_work\\pytorch\\pytorch\\pytorch\\torch\\csrc\\utils\\tensor_new.cpp:257.)\n",
      "  self.X = torch.tensor(self.X)\n"
     ]
    },
    {
     "data": {
      "image/png": "[encoded data removed]",
      "text/plain": [
       "<Figure size 600x900 with 6 Axes>"
      ]
     },
     "metadata": {},
     "output_type": "display_data"
    }
   ],
   "source": [
    "line_dataset = LineDataset(n_samples=6, img_size=16)\n",
    "fig, axes = plt.subplots(2, 3, figsize=(9, 6))\n",
    "for (img, label), ax in zip(line_dataset, axes.flatten()):\n",
    "    ax.imshow(img[0], cmap='gray')\n",
    "    ax.set_title('Vertical' if label == 1 else 'Horizontal')\n",
    "    ax.axis('off')\n",
    "plt.tight_layout()\n",
    "plt.show()"
   ]
  },
  {
   "cell_type": "markdown",
   "id": "10292c7f",
   "metadata": {},
   "source": [
    "Model definitions and functions for training the model."
   ]
  },
  {
   "cell_type": "code",
   "execution_count": 4,
   "id": "aadd103b",
   "metadata": {},
   "outputs": [],
   "source": [
    "\n",
    "class TinyCNN(nn.Module):\n",
    "    \"\"\"A CNN with just two 3×3 kernels to keep things interpretable.\"\"\"\n",
    "\n",
    "    def __init__(self):\n",
    "        super().__init__()\n",
    "        self.conv = nn.Conv2d(1, 2, kernel_size=3, padding=1, bias=False)\n",
    "        self.pool = nn.MaxPool2d(2)\n",
    "        self.fc = nn.Linear(2 * 8 * 8, 2)\n",
    "\n",
    "    def forward(self, x):\n",
    "        x = torch.relu(self.conv(x))\n",
    "        x = self.pool(x)\n",
    "        x = x.flatten(start_dim=1)\n",
    "        return self.fc(x)\n",
    "\n",
    "def train(model: nn.Module, loader: DataLoader, device: torch.device,\n",
    "          epochs: int = 20, lr: float = 1e-3):\n",
    "    optimiser = optim.Adam(model.parameters(), lr=lr)\n",
    "    criterion = nn.CrossEntropyLoss()\n",
    "    model.to(device)\n",
    "    model.train()\n",
    "    for epoch in range(epochs):\n",
    "        running_loss = 0.0\n",
    "        for imgs, labels in loader:\n",
    "            imgs, labels = imgs.to(device), labels.to(device)\n",
    "            optimiser.zero_grad()\n",
    "            outputs = model(imgs)\n",
    "            loss = criterion(outputs, labels)\n",
    "            loss.backward()\n",
    "            optimiser.step()\n",
    "            running_loss += loss.item() * imgs.size(0)\n",
    "        print(f\"Epoch {epoch + 1}: loss = {running_loss / len(loader.dataset):.4f}\")\n",
    "\n",
    "def visualise_kernels(model: nn.Module, title: str = \"\"): \n",
    "    with torch.no_grad():\n",
    "        kernels = model.conv.weight.cpu().numpy()\n",
    "    n = kernels.shape[0]\n",
    "    fig, axes = plt.subplots(1, n, figsize=(3*n, 3))\n",
    "    for i, ax in enumerate(axes.flatten()):\n",
    "        ax.imshow(kernels[i, 0], cmap=\"gray\")\n",
    "        ax.set_title(f\"{title} Kernel {i}\")\n",
    "        ax.axis(\"off\")\n",
    "    plt.tight_layout()\n",
    "    plt.show()"
   ]
  },
  {
   "cell_type": "markdown",
   "id": "4458b8c6",
   "metadata": {},
   "source": [
    "1. Train a CNN classifier using the above functions and plot the trained kernel."
   ]
  },
  {
   "cell_type": "code",
   "execution_count": null,
   "id": "d5620076",
   "metadata": {},
   "outputs": [
    {
     "name": "stdout",
     "output_type": "stream",
     "text": [
      "Epoch 1: loss = 0.6563\n",
      "Epoch 2: loss = 0.4825\n",
      "Epoch 3: loss = 0.2462\n",
      "Epoch 4: loss = 0.1214\n",
      "Epoch 5: loss = 0.0639\n",
      "Epoch 6: loss = 0.0316\n",
      "Epoch 7: loss = 0.0192\n",
      "Epoch 8: loss = 0.0129\n",
      "Epoch 9: loss = 0.0093\n",
      "Epoch 10: loss = 0.0071\n",
      "Epoch 11: loss = 0.0056\n",
      "Epoch 12: loss = 0.0045\n",
      "Epoch 13: loss = 0.0037\n",
      "Epoch 14: loss = 0.0031\n",
      "Epoch 15: loss = 0.0027\n",
      "Epoch 16: loss = 0.0023\n",
      "Epoch 17: loss = 0.0020\n",
      "Epoch 18: loss = 0.0018\n",
      "Epoch 19: loss = 0.0016\n",
      "Epoch 20: loss = 0.0014\n"
     ]
    },
    {
     "data": {
      "image/png": "[encoded data removed]",
      "text/plain": [
       "<Figure size 600x300 with 2 Axes>"
      ]
     },
     "metadata": {},
     "output_type": "display_data"
    }
   ],
   "source": [
    "dataset = LineDataset(n_samples=2000, img_size=16)\n",
    "loader = DataLoader(dataset, batch_size=32, shuffle=True)\n",
    "\n",
    "# TODO: Train the model and visualise the kernels\n",
    "model = TinyCNN()\n",
    "train(model, loader, device)\n",
    "visualise_kernels(model)"
   ]
  },
  {
   "cell_type": "markdown",
   "id": "49fc8e18",
   "metadata": {},
   "source": [
    "## MNIST dataset"
   ]
  },
  {
   "cell_type": "markdown",
   "id": "cd613f8d",
   "metadata": {},
   "source": [
    "Train a CNN classifier on handwritten data from 0 to 9. Load and use the MNIST dataset."
   ]
  },
  {
   "cell_type": "code",
   "execution_count": 6,
   "id": "5a46e5de",
   "metadata": {},
   "outputs": [],
   "source": [
    "# Dataset and DataLoader for MNIST\n",
    "mnist_dataset = datasets.MNIST(root='./data', train=True, download=True,\n",
    "                                transform=transforms.Compose([\n",
    "                                    transforms.ToTensor(),\n",
    "                                    transforms.Normalize((0.1307,), (0.3081,))\n",
    "                                ]))\n",
    "train_loader = DataLoader(mnist_dataset, batch_size=128, shuffle=True)\n",
    "test_loader = DataLoader(\n",
    "    datasets.MNIST(root='./data', train=False, download=True,\n",
    "                   transform=transforms.Compose([\n",
    "                       transforms.ToTensor(),\n",
    "                       transforms.Normalize((0.1307,), (0.3081,))\n",
    "                   ])),\n",
    "    batch_size=128, shuffle=False\n",
    ")"
   ]
  },
  {
   "cell_type": "code",
   "execution_count": null,
   "id": "33c89d26",
   "metadata": {},
   "outputs": [
    {
     "name": "stdout",
     "output_type": "stream",
     "text": [
      "=== MNIST Samples by Digit ===\n"
     ]
    },
    {
     "data": {
      "image/png": "[encoded data removed]",
      "text/plain": [
       "<Figure size 1500x600 with 10 Axes>"
      ]
     },
     "metadata": {},
     "output_type": "display_data"
    }
   ],
   "source": [
    "fig, axes = plt.subplots(2, 5, figsize=(15, 6))\n",
    "for digit in range(10):\n",
    "    idxs = (mnist_dataset.targets == digit).nonzero()\n",
    "    idx = idxs[0].item()\n",
    "    img = mnist_dataset.data[idx]\n",
    "    ax = axes[digit // 5, digit % 5]\n",
    "    ax.imshow(img, cmap='gray')\n",
    "    ax.set_title(f\"Digit {digit}\")\n",
    "    ax.axis('off')\n",
    "plt.tight_layout()\n",
    "plt.show()"
   ]
  },
  {
   "cell_type": "code",
   "execution_count": null,
   "id": "ec65224c",
   "metadata": {},
   "outputs": [],
   "source": [
    "class CNNClassifier(nn.Module):\n",
    "    def __init__(self):\n",
    "        super().__init__()\n",
    "        self.conv = nn.Conv2d(1, 4, kernel_size=5, padding=2, bias=False)\n",
    "        self.relu = nn.ReLU()\n",
    "        self.pool = nn.MaxPool2d(2)\n",
    "        self.fc   = nn.Linear(4 * 14 * 14, 10)\n",
    "\n",
    "    def forward(self, x):\n",
    "        x = self.relu(self.conv(x))\n",
    "        x = self.pool(x)\n",
    "        x = x.view(x.size(0), -1)\n",
    "        return self.fc(x)"
   ]
  },
  {
   "cell_type": "markdown",
   "id": "4d9f7f5e",
   "metadata": {},
   "source": [
    "2. Train CNNClassifier and plot the trained kernel."
   ]
  },
  {
   "cell_type": "code",
   "execution_count": null,
   "id": "3bc2b2e2",
   "metadata": {},
   "outputs": [
    {
     "name": "stdout",
     "output_type": "stream",
     "text": [
      "Epoch 1: loss = 0.3719\n",
      "Epoch 2: loss = 0.1460\n",
      "Epoch 3: loss = 0.1085\n",
      "Epoch 4: loss = 0.0930\n",
      "Epoch 5: loss = 0.0821\n",
      "Epoch 6: loss = 0.0733\n",
      "Epoch 7: loss = 0.0680\n",
      "Epoch 8: loss = 0.0652\n",
      "Epoch 9: loss = 0.0608\n",
      "Epoch 10: loss = 0.0567\n"
     ]
    },
    {
     "data": {
      "image/png": "[encoded data removed]",
      "text/plain": [
       "<Figure size 1200x300 with 4 Axes>"
      ]
     },
     "metadata": {},
     "output_type": "display_data"
    }
   ],
   "source": [
    "# TODO: Train the CNN model and visualise the kernels use train_loader for training\n",
    "\n",
    "mnist_model = CNNClassifier().to(device)\n",
    "train(mnist_model, train_loader, device, epochs=10)\n",
    "visualise_kernels(mnist_model, title=\"MNIST\")"
   ]
  },
  {
   "cell_type": "code",
   "execution_count": null,
   "id": "1d902985",
   "metadata": {},
   "outputs": [
    {
     "name": "stdout",
     "output_type": "stream",
     "text": [
      "Test accuracy: 97.94%\n"
     ]
    }
   ],
   "source": [
    "mnist_model.eval()\n",
    "correct = 0\n",
    "with torch.no_grad():\n",
    "    for imgs, labels in test_loader:\n",
    "        imgs, labels = imgs.to(device), labels.to(device)\n",
    "        pred = mnist_model(imgs).argmax(dim=1)\n",
    "        correct += pred.eq(labels).sum().item()\n",
    "print(f\"Test accuracy: {100. * correct / len(test_loader.dataset):.2f}%\")"
   ]
  },
  {
   "cell_type": "markdown",
   "id": "43134eb5",
   "metadata": {},
   "source": [
    "Does the training succeed? Is the trained kernel interpretable?"
   ]
  }
 ],
 "metadata": {
  "kernelspec": {
   "display_name": "Python 3",
   "language": "python",
   "name": "python3"
  },
  "language_info": {
   "codemirror_mode": {
    "name": "ipython",
    "version": 3
   },
   "file_extension": ".py",
   "mimetype": "text/x-python",
   "name": "python",
   "nbconvert_exporter": "python",
   "pygments_lexer": "ipython3",
   "version": "3.12.9"
  }
 },
 "nbformat": 4,
 "nbformat_minor": 5
}
