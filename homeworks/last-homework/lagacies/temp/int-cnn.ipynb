{
 "cells": [
  {
   "cell_type": "code",
   "execution_count": 2,
   "id": "1a676855",
   "metadata": {},
   "outputs": [
    {
     "name": "stdout",
     "output_type": "stream",
     "text": [
      "Epoch 1: train loss = 0.3569\n",
      "Epoch 2: train loss = 0.1337\n",
      "Epoch 3: train loss = 0.1031\n",
      "Epoch 4: train loss = 0.0877\n",
      "Epoch 5: train loss = 0.0791\n",
      "Test accuracy: 97.71%\n"
     ]
    },
    {
     "data": {
      "image/png": "[encoded data removed]",
      "text/plain": [
       "<Figure size 1000x300 with 4 Axes>"
      ]
     },
     "metadata": {},
     "output_type": "display_data"
    }
   ],
   "source": [
    "# simple_interpretable_cnn.py\n",
    "import torch\n",
    "from torch import nn, optim\n",
    "from torchvision import datasets, transforms\n",
    "import matplotlib.pyplot as plt\n",
    "\n",
    "# 1. 하이퍼파라미터 및 데이터셋 --------------------------------------------------\n",
    "BATCH_SIZE   = 128\n",
    "EPOCHS       = 5         # 적은 epoch만 돌려도 kernel 패턴이 보입니다.\n",
    "LR           = 1e-3\n",
    "DEVICE       = 'cuda' if torch.cuda.is_available() else 'cpu'\n",
    "\n",
    "transform = transforms.Compose([\n",
    "    transforms.ToTensor(),                   # [0,1]\n",
    "    transforms.Normalize((0.1307,), (0.3081,))  # MNIST 평균·표준편차\n",
    "])\n",
    "\n",
    "train_loader = torch.utils.data.DataLoader(\n",
    "    datasets.MNIST(root='./data', train=True, download=True, transform=transform),\n",
    "    batch_size=BATCH_SIZE, shuffle=True)\n",
    "\n",
    "test_loader = torch.utils.data.DataLoader(\n",
    "    datasets.MNIST(root='./data', train=False, download=True, transform=transform),\n",
    "    batch_size=BATCH_SIZE, shuffle=False)\n",
    "\n",
    "# 2. 모델 정의 ------------------------------------------------------------------\n",
    "class TinyCNN(nn.Module):\n",
    "    def __init__(self):\n",
    "        super().__init__()\n",
    "        self.conv = nn.Conv2d(1, 4, kernel_size=5, padding=2, bias=False)  # kernel 네 개\n",
    "        self.relu = nn.ReLU()\n",
    "        self.pool = nn.MaxPool2d(2)      # 28→14\n",
    "        self.fc   = nn.Linear(4 * 14 * 14, 10)\n",
    "\n",
    "    def forward(self, x):\n",
    "        x = self.relu(self.conv(x))\n",
    "        x = self.pool(x)\n",
    "        x = x.view(x.size(0), -1)\n",
    "        return self.fc(x)\n",
    "\n",
    "model = TinyCNN().to(DEVICE)\n",
    "\n",
    "# 3. 학습 루프 -------------------------------------------------------------------\n",
    "criterion = nn.CrossEntropyLoss()\n",
    "optimizer = optim.Adam(model.parameters(), lr=LR)\n",
    "\n",
    "for epoch in range(1, EPOCHS + 1):\n",
    "    model.train()\n",
    "    running_loss = 0.0\n",
    "    for data, target in train_loader:\n",
    "        data, target = data.to(DEVICE), target.to(DEVICE)\n",
    "        optimizer.zero_grad()\n",
    "        output = model(data)\n",
    "        loss   = criterion(output, target)\n",
    "        loss.backward()\n",
    "        optimizer.step()\n",
    "        running_loss += loss.item() * data.size(0)\n",
    "    print(f'Epoch {epoch}: train loss = {running_loss / len(train_loader.dataset):.4f}')\n",
    "\n",
    "# 4. 테스트 정확도 ---------------------------------------------------------------\n",
    "model.eval()\n",
    "correct = 0\n",
    "with torch.no_grad():\n",
    "    for data, target in test_loader:\n",
    "        data, target = data.to(DEVICE), target.to(DEVICE)\n",
    "        output = model(data)\n",
    "        pred   = output.argmax(dim=1)\n",
    "        correct += pred.eq(target).sum().item()\n",
    "print(f'Test accuracy: {100. * correct / len(test_loader.dataset):.2f}%')\n",
    "\n",
    "# 5. kernel 시각화 --------------------------------------------------------------\n",
    "# Conv2d weight shape: [out_channels, in_channels, H, W]\n",
    "kernels = model.conv.weight.data.cpu()\n",
    "\n",
    "fig, axes = plt.subplots(1, 4, figsize=(10, 3))\n",
    "for idx, ax in enumerate(axes):\n",
    "    ax.imshow(kernels[idx, 0, :, :], cmap='gray')\n",
    "    ax.set_title(f'kernel {idx}')\n",
    "    ax.axis('off')\n",
    "plt.tight_layout()\n",
    "plt.show()\n"
   ]
  }
 ],
 "metadata": {
  "kernelspec": {
   "display_name": "Python 3",
   "language": "python",
   "name": "python3"
  },
  "language_info": {
   "codemirror_mode": {
    "name": "ipython",
    "version": 3
   },
   "file_extension": ".py",
   "mimetype": "text/x-python",
   "name": "python",
   "nbconvert_exporter": "python",
   "pygments_lexer": "ipython3",
   "version": "3.12.9"
  }
 },
 "nbformat": 4,
 "nbformat_minor": 5
}
