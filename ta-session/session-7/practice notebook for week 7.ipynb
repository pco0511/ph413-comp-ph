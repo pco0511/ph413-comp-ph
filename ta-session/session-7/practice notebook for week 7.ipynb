{
 "cells": [
  {
   "cell_type": "code",
   "execution_count": null,
   "metadata": {
    "colab": {
     "base_uri": "https://localhost:8080/"
    },
    "executionInfo": {
     "elapsed": 2514,
     "status": "ok",
     "timestamp": 1744133062558,
     "user": {
      "displayName": "Jaeyong Bae",
      "userId": "11305730805053138698"
     },
     "user_tz": -540
    },
    "id": "ZOKBbCu9bJyo",
    "outputId": "a27bcaac-6a27-4086-c459-9d97c5c29224"
   },
   "outputs": [
    {
     "name": "stdout",
     "output_type": "stream",
     "text": [
      "Requirement already satisfied: tqdm in /usr/local/lib/python3.11/dist-packages (4.67.1)\n"
     ]
    }
   ],
   "source": [
    "!pip install tqdm"
   ]
  },
  {
   "cell_type": "markdown",
   "metadata": {
    "id": "HOqpErJWpTWO"
   },
   "source": [
    "# Partial Differential Equation solving"
   ]
  },
  {
   "cell_type": "markdown",
   "metadata": {
    "id": "p-ofjGGZGVo6"
   },
   "source": [
    "## PDE Solving Method: Boundary Value Problem\n",
    "BVP: PDE describing the behavior of a variable in a space, and we are given some constraint on the varialbe around the boundary of the space.\n",
    "\n",
    "Finite Difference + Relaxation\n",
    "\n",
    "Poisson equation in simple boundary condition\n",
    "\n",
    "$\n",
    "\\begin{equation}\n",
    "\\nabla^2 \\phi = -\\cfrac{\\rho(x,y)}{\\epsilon_0}, \\quad \\rho(x_{\\pm\\text{region}},y_{\\pm\\text{region}})=\\pm1\\end{equation}\n",
    "$\n",
    "\n",
    "<img src=\"https://encrypted-tbn3.gstatic.com/images?q=tbn:ANd9GcTy4uX5bf3FfAVJdmboyiefLxQDeghvD7fWTAjOV3-FfeV2fpcE\"/>"
   ]
  },
  {
   "cell_type": "code",
   "execution_count": null,
   "metadata": {
    "id": "IN1JesNRiPjd"
   },
   "outputs": [],
   "source": [
    "import numpy as np\n",
    "import matplotlib.pyplot as plt"
   ]
  },
  {
   "cell_type": "code",
   "execution_count": null,
   "metadata": {
    "id": "dGvcm4v1bEyk"
   },
   "outputs": [],
   "source": [
    "# Constants\n",
    "M = 100         # Grid squares on a side\n",
    "target = 1e-6   # Target accuracy\n",
    "a = 0.01\n",
    "epsilon0 = 8.85e-12\n",
    "\n",
    "# Create arrays to hold potential values\n",
    "phi = np.zeros(shape=(M+1,M+1))\n",
    "\n",
    "# boundary condition\n",
    "def rho(x,y):\n",
    "\n",
    "\tif x>0.6 and x<0.8 and y>0.6 and y<0.8:\n",
    "\t\treturn 1\n",
    "\telif x>0.2 and x<0.4 and y>0.2 and y<0.4:\n",
    "\t\treturn -1\n",
    "\telse:\n",
    "\t\treturn 0\n",
    "\n",
    "\n",
    "# simple relaxation method\n",
    "delta = 1.0\n",
    "iterate = 0\n",
    "while delta>target:\n",
    "  phi_temp = np.copy(phi)\n",
    "  # Calculate new values of the potential\n",
    "  \"\"\"\n",
    "  Calculate phi[i,j] for all grid-point, with this do relaxation.\n",
    "  \"\"\"\n",
    "  # Calculate maximum difference from old values\n",
    "  delta = np.max(np.abs(phi_temp-phi))\n",
    "  # Since it take quite long time, manually stop\n",
    "  iterate = iterate + 1\n",
    "  if iterate > 100:\n",
    "    break"
   ]
  },
  {
   "cell_type": "code",
   "execution_count": null,
   "metadata": {
    "colab": {
     "base_uri": "https://localhost:8080/",
     "height": 433
    },
    "executionInfo": {
     "elapsed": 158,
     "status": "ok",
     "timestamp": 1744133066363,
     "user": {
      "displayName": "Jaeyong Bae",
      "userId": "11305730805053138698"
     },
     "user_tz": -540
    },
    "id": "XpaeIcyMMd7p",
    "outputId": "b7a7a193-3387-461c-c620-85f33d36a8a7"
   },
   "outputs": [
    {
     "data": {
      "image/png": "[encoded data removed]",
      "text/plain": [
       "<Figure size 640x480 with 1 Axes>"
      ]
     },
     "metadata": {},
     "output_type": "display_data"
    }
   ],
   "source": [
    "plt.imshow(phi, origin='lower')\n",
    "plt.show()"
   ]
  },
  {
   "cell_type": "markdown",
   "metadata": {
    "id": "EWviPXuRJ_gs"
   },
   "source": [
    "## PDE Solving Method: Initial Value Problem\n",
    "IVP: Variable of interest is not only subject to boundary conditions, but is also time varying.\n",
    "\n",
    "Finite Time Centered Space Method\n",
    "\n",
    "1-D wave equation\n",
    "\n",
    "$\n",
    "\\cfrac{\\partial^2 \\phi}{\\partial x^2} - \\cfrac{1}{v^2} \\cfrac{\\partial^2 \\phi}{\\partial t^2} = 0\n",
    "$\n",
    "\n",
    "where can decomposed by,\n",
    "\n",
    "$\n",
    "\\cfrac{d\\phi}{dt}=\\psi(x,t), \\quad \\cfrac{d\\psi}{dt}= \\cfrac{v^2}{a^2}[\\phi(x+a,t)+ \\phi(x-a,t) -2\\phi(x,t)]\n",
    "$\n",
    "\n",
    "with initial condition\n",
    "\n",
    "$\n",
    "\\phi(x,0)=0, \\quad  \\psi(x,0) = C\\cfrac{x(L-x)}{L^2}\\exp[-(x-d)^2/(2\\sigma^2)]\n",
    "$"
   ]
  },
  {
   "cell_type": "code",
   "execution_count": 2,
   "metadata": {
    "executionInfo": {
     "elapsed": 91,
     "status": "ok",
     "timestamp": 1744138552435,
     "user": {
      "displayName": "Jaeyong Bae",
      "userId": "11305730805053138698"
     },
     "user_tz": -540
    },
    "id": "-a8N6lBhik7g"
   },
   "outputs": [],
   "source": [
    "from matplotlib.animation import FuncAnimation\n",
    "from IPython.display import HTML\n",
    "from tqdm import tqdm"
   ]
  },
  {
   "cell_type": "code",
   "execution_count": null,
   "metadata": {
    "colab": {
     "base_uri": "https://localhost:8080/"
    },
    "executionInfo": {
     "elapsed": 3102,
     "status": "ok",
     "timestamp": 1744133069478,
     "user": {
      "displayName": "Jaeyong Bae",
      "userId": "11305730805053138698"
     },
     "user_tz": -540
    },
    "id": "eyznVQZ-pdsl",
    "outputId": "27fd0527-d17a-4147-b0ae-1dd68e4a833e"
   },
   "outputs": [
    {
     "name": "stderr",
     "output_type": "stream",
     "text": [
      "100%|██████████| 100000/100000 [00:03<00:00, 32445.15it/s]\n"
     ]
    }
   ],
   "source": [
    "# Domain & simulation parameters\n",
    "L = 1            # Length of the domain\n",
    "N = 500          # Number of grid spacings\n",
    "a = L / N      # Spatial step size\n",
    "x = np.linspace(0, L, N+1)  # Spatial grid\n",
    "\n",
    "# Physical parameters\n",
    "v = 100        # Velocity constant\n",
    "d = 0.1        # Shift position for the Gaussian-like shape\n",
    "C = 1          # Amplitude constant\n",
    "sigma = 0.3    # Wihh of the Gaussian\n",
    "\n",
    "h = 1e-6\n",
    "\n",
    "def psi0(x):\n",
    "    return C * x * (L - x) / L**2 * np.exp( - (x - d)**2 / (2 * sigma**2))\n",
    "\n",
    "# Initial conditions\n",
    "phi_FTCS = np.zeros_like(x)\n",
    "psi_FTCS = psi0(x).copy()\n",
    "\n",
    "num_frames = 100000\n",
    "phi_FTCS_t = [phi_FTCS.copy()]\n",
    "\n",
    "###############################################\n",
    "# FTCS update (explicit) for one h step:\n",
    "def update_FTCS(phi, psi):\n",
    "    # FTCS: phi^{n+1} = phi^n + h * psi^n\n",
    "    # and     psi^{n+1} = psi^n + h * v^2 * (phi_{i+1} - 2phi_i + phi_{i-1})/a^2\n",
    "    phi_new = phi.copy()\n",
    "    psi_new = psi.copy()\n",
    "\n",
    "    \"\"\"\n",
    "    Update phi_new and psi_new by FTCS rule.\n",
    "    \"\"\"\n",
    "\n",
    "\n",
    "    return phi_new, psi_new\n",
    "\n",
    "for _ in tqdm(range(num_frames)):\n",
    "    phi_FTCS, psi_FTCS = update_FTCS(phi_FTCS, psi_FTCS)\n",
    "    phi_FTCS_t.append(phi_FTCS.copy())"
   ]
  },
  {
   "cell_type": "code",
   "execution_count": null,
   "metadata": {
    "colab": {
     "base_uri": "https://localhost:8080/",
     "height": 575,
     "output_embedded_package_id": "1Md4DZc6yAZQDZ_cJgoQrs1xlvTxj-lSF"
    },
    "executionInfo": {
     "elapsed": 18169,
     "status": "ok",
     "timestamp": 1744133087648,
     "user": {
      "displayName": "Jaeyong Bae",
      "userId": "11305730805053138698"
     },
     "user_tz": -540
    },
    "id": "d5HmMr4QpBP3",
    "outputId": "57afe793-c539-400b-96eb-99a0c507b551"
   },
   "outputs": [
    {
     "data": {
      "text/plain": [
       "Output hidden; open in https://colab.research.google.com to view."
      ]
     },
     "metadata": {},
     "output_type": "display_data"
    }
   ],
   "source": [
    "fig, ax = plt.subplots()\n",
    "line, = ax.plot(x - L/2, phi_FTCS_t[0], lw=2)\n",
    "ax.set_xlabel('x - L/2')\n",
    "ax.set_ylabel('psi')\n",
    "ax.set_title('Wave Simulation')\n",
    "ax.set_xlim(-L/2, L/2)\n",
    "ax.set_ylim(-0.002, 0.002)\n",
    "\n",
    "# -----------------------------\n",
    "starting_frame = 0\n",
    "# -----------------------------\n",
    "def update(frame):\n",
    "    frame = int(starting_frame + 100*frame)\n",
    "    phi = phi_FTCS_t[frame]\n",
    "    line.set_ydata(phi)\n",
    "    return (line,)\n",
    "\n",
    "\n",
    "ani = FuncAnimation(fig, update, frames=np.arange(0, 100), interval=10, blit=True)\n",
    "plt.close(fig)\n",
    "HTML(ani.to_jshtml())"
   ]
  },
  {
   "cell_type": "markdown",
   "metadata": {
    "id": "WSH9YdCizk9a"
   },
   "source": [
    "## PDE Solving Method: Initial Value Problem\n",
    "IVP: Variable of interest is not only subject to boundary conditions, but is also time varying.\n",
    "\n",
    "Crank-Nicolson Method: hybrid of FTCS and Implicit method\n",
    "\n"
   ]
  },
  {
   "cell_type": "markdown",
   "metadata": {
    "id": "DdwKEwSEyNj4"
   },
   "source": [
    "Solving ax=b, with banded matrix a\n",
    "```\n",
    "      [5  2 -1  0  0]         [0]\n",
    "      [1  4  2 -1  0]         [1]\n",
    "a = [0  1  3  2 -1]   b = [2]\n",
    "      [0  0  1  2  2]         [2]\n",
    "      [0  0  0  1  1]         [3]\n",
    "```\n",
    "```\n",
    "import numpy as np\n",
    "from scipy.linalg import solve_banded\n",
    "ab = np.array([[0,  0, -1, -1, -1],\n",
    "                        [0,  2,  2,  2,  2],\n",
    "                        [5,  4,  3,  2,  1],\n",
    "                        [1,  1,  1,  1,  0]])\n",
    "b = np.array([0, 1, 2, 2, 3])\n",
    "x = solve_banded((1, 2), ab, b)\n",
    "x\n",
    "```"
   ]
  },
  {
   "cell_type": "code",
   "execution_count": 1,
   "metadata": {
    "colab": {
     "base_uri": "https://localhost:8080/"
    },
    "executionInfo": {
     "elapsed": 22768,
     "status": "ok",
     "timestamp": 1744138552340,
     "user": {
      "displayName": "Jaeyong Bae",
      "userId": "11305730805053138698"
     },
     "user_tz": -540
    },
    "id": "8OT9yVMozq_b",
    "outputId": "349d6f3d-724b-4e4f-e759-4642abee62df"
   },
   "outputs": [
    {
     "name": "stderr",
     "output_type": "stream",
     "text": [
      "100%|██████████| 100000/100000 [00:22<00:00, 4492.89it/s]\n"
     ]
    }
   ],
   "source": [
    "import numpy as np\n",
    "from tqdm import tqdm\n",
    "from scipy.linalg import solve_banded\n",
    "import matplotlib.pyplot as plt\n",
    "\n",
    "# Domain & simulation parameters\n",
    "L = 1            # Length of the domain\n",
    "N = 500          # Number of grid spacings\n",
    "a = L / N      # Spatial step size\n",
    "x = np.linspace(0, L, N+1)  # Spatial grid\n",
    "\n",
    "# Physical parameters\n",
    "v = 100        # Velocity constant\n",
    "d = 0.1        # Shift position for the Gaussian-like shape\n",
    "C = 1          # Amplitude constant\n",
    "sigma = 0.3    # Wihh of the Gaussian\n",
    "\n",
    "# Time stepping: use same h for both CN and FTCS updates.\n",
    "h = 1e-6     # Time step per frame\n",
    "\n",
    "def psi0(x):\n",
    "    return C * x * (L - x) / L**2 * np.exp( - (x - d)**2 / (2 * sigma**2))\n",
    "\n",
    "# Initial conditions\n",
    "phi_CN = np.zeros_like(x)\n",
    "psi_CN = psi0(x).copy()\n",
    "\n",
    "# Prepare storage (for example, saving 200 frames)\n",
    "num_frames = 100000\n",
    "phi_CN_t = [phi_CN.copy()]\n",
    "\n",
    "###############################################\n",
    "# CN update: 1 h-step update using trapezoidal rule\n",
    "# CN derived update:\n",
    "#   phi^{n+1} - r * δxx(phi^{n+1}) = phi^n + h*psi^n + r * δxx(phi^n)\n",
    "# with r = h^2 * v^2/(4*a^2)\n",
    "r = h**2 * v**2 / (4*a**2)\n",
    "# Setup the banded matrix for interior nodes (1,...,N-1)\n",
    "n_interior = N - 1\n",
    "ab = np.zeros((3, n_interior))\n",
    "ab[0, 1:] = -r             # Upper diagonal\n",
    "ab[1, :] = 1 + 2*r         # Main diagonal\n",
    "ab[2, :-1] = -r            # Lower diagonal\n",
    "\n",
    "def update_CN(phi, psi):\n",
    "    # Build right-hand side for interior nodes:\n",
    "    \"\"\"\n",
    "    define RHS of matrix equation\n",
    "    rhs = ?\n",
    "    \"\"\"\n",
    "\n",
    "    # Solve for phi_interior^{n+1} via built-in banded solver\n",
    "    phi_interior_new = solve_banded((1, 1), ab, rhs)\n",
    "\n",
    "    phi_new = phi.copy()\n",
    "    phi_new[1:N] = phi_interior_new\n",
    "\n",
    "    # Update psi: psi^{n+1} = (2/h)*(phi^{n+1} - phi^n) - psi^n\n",
    "    \"\"\"\n",
    "    psi_new = psi.copy()\n",
    "    update psi\n",
    "    \"\"\"\n",
    "\n",
    "    return phi_new, psi_new\n",
    "\n",
    "###############################################\n",
    "# Time stepping loop - update for both methods identically (num_frames h steps)\n",
    "for _ in tqdm(range(num_frames)):\n",
    "    phi_CN, psi_CN = update_CN(phi_CN, psi_CN)\n",
    "    phi_CN_t.append(phi_CN.copy())\n"
   ]
  },
  {
   "cell_type": "code",
   "execution_count": null,
   "metadata": {
    "colab": {
     "base_uri": "https://localhost:8080/",
     "height": 575,
     "output_embedded_package_id": "1mo26nYX3zv5YnWcNlYhCosWt0Afm5Y1O"
    },
    "executionInfo": {
     "elapsed": 9403,
     "status": "ok",
     "timestamp": 1744133102114,
     "user": {
      "displayName": "Jaeyong Bae",
      "userId": "11305730805053138698"
     },
     "user_tz": -540
    },
    "id": "1wkM9gOORjaL",
    "outputId": "2bd3c7f5-d67b-4277-92a4-a335bfe12db9"
   },
   "outputs": [
    {
     "data": {
      "text/plain": [
       "Output hidden; open in https://colab.research.google.com to view."
      ]
     },
     "metadata": {},
     "output_type": "display_data"
    }
   ],
   "source": [
    "fig, ax = plt.subplots()\n",
    "line_ftcs, = ax.plot(x - L/2, phi_FTCS_t[0], lw=2, alpha=0.5)\n",
    "line_cn, = ax.plot(x - L/2, phi_CN_t[0], lw=2, alpha=0.5)\n",
    "\n",
    "ax.set_xlabel('x - L/2')\n",
    "ax.set_ylabel('psi')\n",
    "ax.set_title('Wave Simulation')\n",
    "ax.set_xlim(-L/2, L/2)\n",
    "ax.set_ylim(-0.002, 0.002)\n",
    "\n",
    "# -----------------------------\n",
    "starting_frame = 0\n",
    "# -----------------------------\n",
    "def update(frame):\n",
    "    frame = int(starting_frame + 100*frame)\n",
    "    line_ftcs.set_ydata(phi_FTCS_t[frame])\n",
    "    line_cn.set_ydata(phi_CN_t[frame])\n",
    "\n",
    "    return (line_ftcs, line_cn,)\n",
    "\n",
    "\n",
    "ani = FuncAnimation(fig, update, frames=np.arange(0, 100), interval=10, blit=True)\n",
    "plt.close(fig)\n",
    "HTML(ani.to_jshtml())"
   ]
  },
  {
   "cell_type": "markdown",
   "metadata": {
    "collapsed": false,
    "id": "zglw8ehVpNrh"
   },
   "source": [
    "# Deep Learning for differential equation"
   ]
  },
  {
   "cell_type": "markdown",
   "metadata": {
    "collapsed": false,
    "id": "TJNtTykMpNri"
   },
   "source": [
    "# Physics-Informed Neural Networks (PINNs)"
   ]
  },
  {
   "cell_type": "markdown",
   "metadata": {
    "id": "V1nrclN7lSBL"
   },
   "source": [
    "## Example: Burgers' equation\n",
    "\n",
    "To illustrate the PINN approach we consider the one-dimensional Burgers equation on the spatial domain $\\mathcal{D} = [-1,1]$\n",
    "\n",
    "$$\n",
    "\\begin{aligned}\n",
    "    u_t + u u_x - \\frac{0.01}{\\pi}u_{xx} &= 0, \\quad &&\\quad (x,t) \\in [-1,1] \\times [0,1] \\\\\n",
    "   u(x,0) &= - \\sin(\\pi \\, x),                 \\quad &&\\quad x \\in [-1,1],\\\\\n",
    "   u(-1, t) &= u(1, t) = 0,                      \\quad &&\\quad t \\in (0,1].\n",
    "\\end{aligned}\n",
    "$$"
   ]
  },
  {
   "cell_type": "code",
   "execution_count": null,
   "metadata": {
    "id": "pVBO6zqe_CAP",
    "pycharm": {
     "is_executing": true
    }
   },
   "outputs": [],
   "source": [
    "import math\n",
    "import torch\n",
    "import numpy as np\n",
    "import matplotlib.pyplot as plt\n",
    "\n",
    "def tdn(x):\n",
    "    return x.cpu().detach().numpy()\n",
    "\n",
    "\n",
    "device = \"cuda\" if torch.cuda.is_available() else \"cpu\""
   ]
  },
  {
   "cell_type": "markdown",
   "metadata": {
    "id": "esWTdJeVnf2t"
   },
   "source": [
    "## 1. Generate Training set"
   ]
  },
  {
   "cell_type": "markdown",
   "metadata": {
    "id": "8hzliFEAoWx4"
   },
   "source": [
    "### Boundary condition"
   ]
  },
  {
   "cell_type": "code",
   "execution_count": null,
   "metadata": {
    "id": "CywAFmBeoYw5",
    "pycharm": {
     "is_executing": true
    }
   },
   "outputs": [],
   "source": [
    "def init(x):\n",
    "    return -torch.sin(torch.pi*x)\n",
    "\n",
    "def bc(x):\n",
    "    return x*0"
   ]
  },
  {
   "cell_type": "code",
   "execution_count": null,
   "metadata": {
    "id": "4DUGheAqpNrj",
    "pycharm": {
     "is_executing": true
    }
   },
   "outputs": [],
   "source": [
    "def dataset_gen(gap=0.1):\n",
    "\n",
    "    x = torch.arange(-1, 1+gap, gap)\n",
    "    t = torch.arange(0, 1+gap, gap)\n",
    "    x_col, t_col = torch.meshgrid(x, t)\n",
    "    x_col, t_col = x_col.flatten(), t_col.flatten()\n",
    "\n",
    "    x_bc_1, t_bc_1 = torch.meshgrid(x[0], t)\n",
    "    x_bc_1, t_bc_1 = x_bc_1.squeeze(), t_bc_1.squeeze()\n",
    "    u_bc_1 = bc(x_bc_1)\n",
    "\n",
    "    x_bc_2, t_bc_2 =  torch.meshgrid(x[-1], t)\n",
    "    x_bc_2, t_bc_2 = x_bc_2.squeeze(), t_bc_2.squeeze()\n",
    "    u_bc_2 = bc(x_bc_2)\n",
    "\n",
    "    x_init, t_init =  torch.meshgrid(x, t[0])\n",
    "    x_init, t_init = x_init.squeeze(), t_init.squeeze()\n",
    "    u_init = init(x_init)\n",
    "\n",
    "    x_bc = torch.cat([x_bc_1, x_bc_2, x_init])\n",
    "    t_bc = torch.cat([t_bc_1, t_bc_2, t_init])\n",
    "    u_bc = torch.cat([u_bc_1, u_bc_2, u_init])\n",
    "\n",
    "    return x_col, t_col, x_bc, t_bc, u_bc"
   ]
  },
  {
   "cell_type": "code",
   "execution_count": null,
   "metadata": {
    "colab": {
     "base_uri": "https://localhost:8080/",
     "height": 601
    },
    "executionInfo": {
     "elapsed": 425,
     "status": "ok",
     "timestamp": 1744133106272,
     "user": {
      "displayName": "Jaeyong Bae",
      "userId": "11305730805053138698"
     },
     "user_tz": -540
    },
    "id": "WiLg5LAGpvDS",
    "outputId": "8e62b49c-fc7a-475c-a1ad-18bbf335290b",
    "pycharm": {
     "is_executing": true
    }
   },
   "outputs": [
    {
     "name": "stderr",
     "output_type": "stream",
     "text": [
      "/usr/local/lib/python3.11/dist-packages/torch/functional.py:539: UserWarning: torch.meshgrid: in an upcoming release, it will be required to pass the indexing argument. (Triggered internally at /pytorch/aten/src/ATen/native/TensorShape.cpp:3637.)\n",
      "  return _VF.meshgrid(tensors, **kwargs)  # type: ignore[attr-defined]\n"
     ]
    },
    {
     "data": {
      "image/png": "[encoded data removed]",
      "text/plain": [
       "<Figure size 900x600 with 1 Axes>"
      ]
     },
     "metadata": {},
     "output_type": "display_data"
    }
   ],
   "source": [
    "x_coll, t_coll, x_bc, t_bc, u_bc = dataset_gen()\n",
    "\n",
    "fig = plt.figure(figsize=(9,6))\n",
    "plt.scatter(tdn(t_bc), tdn(x_bc), c=tdn(u_bc), marker='X', vmin=-1, vmax=1)\n",
    "plt.scatter(tdn(t_coll), tdn(x_coll), c='r', marker='.', alpha=0.1)\n",
    "plt.xlabel('$t$')\n",
    "plt.ylabel('$x$')\n",
    "plt.title('Positions of collocation & boundary points');"
   ]
  },
  {
   "cell_type": "markdown",
   "metadata": {
    "id": "dEg52JiJpYkq"
   },
   "source": [
    "## 2. Define Neural Network and Define Loss with residual\n",
    "\n",
    "### Define Loss function\n",
    "\n",
    "\\begin{equation}\n",
    "J_d = \\cfrac{1}{N} \\sum^{N}_{i=1} \\left[u_\\theta(x_d^{(i)}, t_d^{(i)})-u^{(i)}\\right]^2\n",
    "\\end{equation}\n",
    "\n",
    "\n",
    "\\begin{equation}\n",
    "J_p = \\cfrac{1}{N} \\sum^{N}_{i=1} \\left[f(x_p^{(i)}, t_p^{(i)})\\right]^2, \\quad \\text{where} \\quad f(x,t) = u_t + uu_x - \\left( \\cfrac{0.01}{\\pi} \\right)u_{xx}\n",
    "\\end{equation}\n"
   ]
  },
  {
   "cell_type": "code",
   "execution_count": null,
   "metadata": {
    "id": "JQL3mPXazdf-"
   },
   "outputs": [],
   "source": []
  },
  {
   "cell_type": "markdown",
   "metadata": {
    "id": "Yy6JnbJp7Hui"
   },
   "source": [
    "## 2-1. torch.autograd basic"
   ]
  },
  {
   "cell_type": "code",
   "execution_count": null,
   "metadata": {
    "colab": {
     "base_uri": "https://localhost:8080/"
    },
    "executionInfo": {
     "elapsed": 14,
     "status": "ok",
     "timestamp": 1743504302335,
     "user": {
      "displayName": "Jaeyong Bae",
      "userId": "11305730805053138698"
     },
     "user_tz": -540
    },
    "id": "Qm6mHyl91uCv",
    "outputId": "bbc4e80d-38fe-477c-b142-9f0fb86700a6"
   },
   "outputs": [
    {
     "data": {
      "text/plain": [
       "(tensor([36.]),)"
      ]
     },
     "execution_count": 21,
     "metadata": {},
     "output_type": "execute_result"
    }
   ],
   "source": [
    "# Scalar function\n",
    "a = torch.tensor([2.], requires_grad=True)\n",
    "b = torch.tensor([6.], requires_grad=True)\n",
    "Q = 3*a**3 - b**2\n",
    "torch.autograd.grad(Q, a) # dQ_da; grad_outputs.T @ Jacobian"
   ]
  },
  {
   "cell_type": "code",
   "execution_count": null,
   "metadata": {
    "colab": {
     "base_uri": "https://localhost:8080/"
    },
    "executionInfo": {
     "elapsed": 6,
     "status": "ok",
     "timestamp": 1743504302353,
     "user": {
      "displayName": "Jaeyong Bae",
      "userId": "11305730805053138698"
     },
     "user_tz": -540
    },
    "id": "41xGAKINyjs2",
    "outputId": "fd07310a-82c5-4d73-a60f-5cb5acf30803"
   },
   "outputs": [
    {
     "name": "stdout",
     "output_type": "stream",
     "text": [
      "tensor([-12.,  65., 188.], grad_fn=<SubBackward0>)\n"
     ]
    }
   ],
   "source": [
    "# Parallel Vector function\n",
    "a = torch.tensor([2., 3., 4], requires_grad=True)\n",
    "b = torch.tensor([6., 4., 2], requires_grad=True)\n",
    "\n",
    "def Q(a,b):\n",
    "    res = 3*a**3 - b**2\n",
    "    return res\n",
    "\n",
    "# Basically, parallel scalar function\n",
    "# Q[0] = 3*a[0]**3-b[0]**2\n",
    "# Q[1] = 3*a[1]**3-b[1]**2\n",
    "# ...\n",
    "\n",
    "print(Q(a,b))"
   ]
  },
  {
   "cell_type": "code",
   "execution_count": null,
   "metadata": {
    "colab": {
     "base_uri": "https://localhost:8080/"
    },
    "executionInfo": {
     "elapsed": 501,
     "status": "ok",
     "timestamp": 1743504302899,
     "user": {
      "displayName": "Jaeyong Bae",
      "userId": "11305730805053138698"
     },
     "user_tz": -540
    },
    "id": "oSlaoebI1Veg",
    "outputId": "edf132ee-309e-44df-c140-357e8ebef874"
   },
   "outputs": [
    {
     "data": {
      "text/plain": [
       "(tensor([ 36.,  81., 144.], grad_fn=<MulBackward0>),)"
      ]
     },
     "execution_count": 23,
     "metadata": {},
     "output_type": "execute_result"
    }
   ],
   "source": [
    "# grad_output; The “vector” in the vector-Jacobian product\n",
    "# create_graph; Allowing to compute higher order derivative products\n",
    "torch.autograd.grad(Q(a,b), a, grad_outputs=torch.ones_like(Q(a,b)), create_graph=True) # dQ_da; grad_outputs.T @ Jacobian"
   ]
  },
  {
   "cell_type": "markdown",
   "metadata": {
    "id": "DHQsmvX13Hcz"
   },
   "source": [
    "$\n",
    "J=\\left(\\begin{array}{ccc}\n",
    "\\frac{\\partial \\mathbf{y}}{\\partial x_1} & \\cdots & \\frac{\\partial \\mathbf{y}}{\\partial x_n}\n",
    "\\end{array}\\right)=\\left(\\begin{array}{ccc}\n",
    "\\frac{\\partial y_1}{\\partial x_1} & \\cdots & \\frac{\\partial y_1}{\\partial x_n} \\\\\n",
    "\\vdots & \\ddots & \\vdots \\\\\n",
    "\\frac{\\partial y_m}{\\partial x_1} & \\cdots & \\frac{\\partial y_m}{\\partial x_n}\n",
    "\\end{array}\\right)\n",
    "\\quad \\to \\quad J_{Q,a}= \\begin{pmatrix}\n",
    "\\frac{\\partial Q_1}{\\partial a_1} & \\frac{\\partial Q_1}{\\partial a_2} \\\\\n",
    "\\frac{\\partial Q_2}{\\partial a_1} & \\frac{\\partial Q_2}{\\partial a_2}\n",
    "\\end{pmatrix}  $\n",
    "\n",
    "In parallel vector function, we need only diagonal part (off-diagonal; meaningless)"
   ]
  },
  {
   "cell_type": "code",
   "execution_count": null,
   "metadata": {
    "colab": {
     "base_uri": "https://localhost:8080/"
    },
    "executionInfo": {
     "elapsed": 13,
     "status": "ok",
     "timestamp": 1743504302912,
     "user": {
      "displayName": "Jaeyong Bae",
      "userId": "11305730805053138698"
     },
     "user_tz": -540
    },
    "id": "7G53hMXd5Zyi",
    "outputId": "dbead62d-e81c-449a-972d-c637f384bbf1"
   },
   "outputs": [
    {
     "name": "stdout",
     "output_type": "stream",
     "text": [
      "tensor([ 36.,  81., 144.])\n",
      "element 0 of tensors does not require grad and does not have a grad_fn\n"
     ]
    }
   ],
   "source": [
    "# create_graph - off; require_grads property is not retained\n",
    "try:\n",
    "    dqda = torch.autograd.grad(Q(a,b), a, grad_outputs=torch.ones_like(Q(a,b)), create_graph=False)[0]\n",
    "    print(dqda)\n",
    "    dqdaa = torch.autograd.grad(dqda, a, grad_outputs=torch.ones_like(dqda))\n",
    "except Exception as e:\n",
    "    print(e)"
   ]
  },
  {
   "cell_type": "code",
   "execution_count": null,
   "metadata": {
    "colab": {
     "base_uri": "https://localhost:8080/"
    },
    "executionInfo": {
     "elapsed": 1,
     "status": "ok",
     "timestamp": 1743504302914,
     "user": {
      "displayName": "Jaeyong Bae",
      "userId": "11305730805053138698"
     },
     "user_tz": -540
    },
    "id": "dwyH3vz25jaY",
    "outputId": "a079c2b6-d904-428d-dde8-2dcc42b7f927"
   },
   "outputs": [
    {
     "name": "stdout",
     "output_type": "stream",
     "text": [
      "tensor([ 36.,  81., 144.], grad_fn=<MulBackward0>)\n",
      "tensor([36., 54., 72.])\n"
     ]
    }
   ],
   "source": [
    "# create_graph - on\n",
    "try:\n",
    "    dqda = torch.autograd.grad(Q(a,b), a, grad_outputs=torch.ones_like(Q(a,b)), create_graph=True)[0]\n",
    "    print(dqda)\n",
    "    dqdaa = torch.autograd.grad(dqda, a, grad_outputs=torch.ones_like(dqda))[0]\n",
    "    print(dqdaa)\n",
    "except Exception as e:\n",
    "    print(e)"
   ]
  },
  {
   "cell_type": "code",
   "execution_count": null,
   "metadata": {
    "id": "YP6CcpSAMVAv",
    "pycharm": {
     "is_executing": true
    }
   },
   "outputs": [],
   "source": [
    "\n",
    "def burger_equation_residual(data, u):\n",
    "    # input data: (x,t), function: u\n",
    "    # function is must explicitly relate with input u ~ f(x,t, ...)\n",
    "    # Calculate the first derivative with respect to dx, dt: du/dx, du/dt\n",
    "    \"\"\"\n",
    "    du_dX =\n",
    "    \"\"\"\n",
    "\n",
    "    # Calculate the first derivative with respect to x: du/dx\n",
    "    du_dx = du_dX[:,0]\n",
    "    du_dt = du_dX[:,1]\n",
    "\n",
    "    # Calculate the second derivative with respect to x: d2u/dx2\n",
    "    \"\"\"\n",
    "    du_dxx =\n",
    "    \"\"\"\n",
    "    # Define the residual of the PDE: du/dt - alpha * d2u/dx2\n",
    "    \"\"\"\n",
    "    residual =\n",
    "    \"\"\"\n",
    "    return residual\n",
    "\n",
    "def Jd(u_pred, u_true):\n",
    "    if u_pred.size()==u_true.size():\n",
    "        pass\n",
    "    else:\n",
    "        raise TypeError\n",
    "        \"\"\"\n",
    "        Jd =\n",
    "        \"\"\"\n",
    "    return Jd\n",
    "\n",
    "def Jp(data, u_pred):\n",
    "    f_pred = burger_equation_residual(data, u_pred)\n",
    "    \"\"\"\n",
    "    Jp =\n",
    "    \"\"\"\n",
    "    return Jp\n",
    "\n"
   ]
  },
  {
   "cell_type": "code",
   "execution_count": null,
   "metadata": {
    "id": "1KNVEBZLpfVL"
   },
   "outputs": [],
   "source": [
    "import torch.nn as nn\n",
    "\n",
    "# FREE to modify\n",
    "\n",
    "class PINN(nn.Module):\n",
    "    def __init__(self):\n",
    "        super(PINN, self).__init__()\n",
    "\n",
    "        self.fc1 = nn.Linear(2, 20)\n",
    "\n",
    "        self.fc2 = nn.Linear(20, 20)\n",
    "        self.fc3 = nn.Linear(20, 20)\n",
    "        self.fc4 = nn.Linear(20, 20)\n",
    "        self.fc5 = nn.Linear(20, 20)\n",
    "\n",
    "        self.fc = nn.Linear(20, 1)\n",
    "        self.activation = nn.Tanh()\n",
    "\n",
    "    def forward(self, x):\n",
    "        x = self.fc1(x)\n",
    "        x = self.activation(x)\n",
    "        x = self.fc2(x)\n",
    "        x = self.activation(x)\n",
    "        x = self.fc3(x)\n",
    "        x = self.activation(x)\n",
    "        x = self.fc4(x)\n",
    "        x = self.activation(x)\n",
    "        x = self.fc5(x)\n",
    "        x = self.activation(x)\n",
    "        x = self.fc(x)\n",
    "\n",
    "        return x\n"
   ]
  },
  {
   "cell_type": "markdown",
   "metadata": {
    "id": "rPWAhG3nrqdu"
   },
   "source": [
    "## 3. Train Model\n",
    "We use the LBFGS optimizer because, with periodic boundary conditions, a simple gradient approach tends to get stuck in poor local minima.\n"
   ]
  },
  {
   "cell_type": "code",
   "execution_count": null,
   "metadata": {
    "id": "lAZcU3AcpNrk"
   },
   "outputs": [],
   "source": [
    "\n",
    "class PINN_Optimizer:\n",
    "    def __init__(self):\n",
    "        self.model = PINN().to(device)\n",
    "        x_coll, t_coll, x_bc, t_bc, u_bc = dataset_gen(gap=0.1)\n",
    "        ### Collocation points and Boundary condition points\n",
    "        self.data_coll = torch.stack([x_coll, t_coll], dim=-1).to(device).requires_grad_(True)\n",
    "        self.data_bc =  torch.stack([x_bc, t_bc], dim=-1).to(device)\n",
    "        ### True value in Boundary condition\n",
    "        self.u_bc_true = u_bc.to(device).unsqueeze(1)\n",
    "\n",
    "        self.iter = 1\n",
    "        self.optimizer = torch.optim.LBFGS(self.model.parameters(),\n",
    "                                           lr=1,\n",
    "                                           max_iter=50000,\n",
    "                                           max_eval=50000,\n",
    "                                           history_size=50,\n",
    "                                           tolerance_grad=1e-7,\n",
    "                                           tolerance_change=1.0 * np.finfo(float).eps,\n",
    "                                           line_search_fn=\"strong_wolfe\"\n",
    "                                          )\n",
    "        self.adam = torch.optim.Adam(self.model.parameters())\n",
    "\n",
    "    def loss_func(self):\n",
    "        self.adam.zero_grad()\n",
    "        self.optimizer.zero_grad()\n",
    "        \"\"\"\n",
    "        define loss function\n",
    "        u_pred_collocation =\n",
    "        J_p =\n",
    "        u_pred_bc =\n",
    "        J_d =\n",
    "        loss =\n",
    "        \"\"\"\n",
    "        loss.backward()\n",
    "        if self.iter % 100 == 0:\n",
    "            print(f\"Optimize Iteration: {self.iter}, J_p:  {J_p.item():.4f}, J_d: {J_d.item():.4f}, Total: {loss.item():.4f}\")\n",
    "        self.iter = self.iter+1\n",
    "\n",
    "        return loss\n",
    "\n",
    "    def train(self):\n",
    "        self.model.train()\n",
    "        for i in range(1000):\n",
    "            self.adam.step(self.loss_func)\n",
    "        self.optimizer.step(self.loss_func)"
   ]
  },
  {
   "cell_type": "code",
   "execution_count": null,
   "metadata": {
    "colab": {
     "base_uri": "https://localhost:8080/"
    },
    "executionInfo": {
     "elapsed": 57970,
     "status": "ok",
     "timestamp": 1744133164265,
     "user": {
      "displayName": "Jaeyong Bae",
      "userId": "11305730805053138698"
     },
     "user_tz": -540
    },
    "id": "i02_2qpkpNrk",
    "outputId": "ff2420ac-44f5-458e-cace-278199c98053"
   },
   "outputs": [
    {
     "name": "stderr",
     "output_type": "stream",
     "text": [
      "/usr/local/lib/python3.11/dist-packages/torch/autograd/graph.py:823: UserWarning: Attempting to run cuBLAS, but there was no current CUDA context! Attempting to set the primary context... (Triggered internally at /pytorch/aten/src/ATen/cuda/CublasHandlePool.cpp:180.)\n",
      "  return Variable._execution_engine.run_backward(  # Calls into the C++ engine to run the backward pass\n"
     ]
    },
    {
     "name": "stdout",
     "output_type": "stream",
     "text": [
      "Optimize Iteration: 100, J_p:  0.0061, J_d: 0.1792, Total: 0.1854\n",
      "Optimize Iteration: 200, J_p:  0.0275, J_d: 0.0656, Total: 0.0931\n",
      "Optimize Iteration: 300, J_p:  0.0259, J_d: 0.0633, Total: 0.0891\n",
      "Optimize Iteration: 400, J_p:  0.0232, J_d: 0.0592, Total: 0.0825\n",
      "Optimize Iteration: 500, J_p:  0.0216, J_d: 0.0509, Total: 0.0725\n",
      "Optimize Iteration: 600, J_p:  0.0211, J_d: 0.0486, Total: 0.0697\n",
      "Optimize Iteration: 700, J_p:  0.0208, J_d: 0.0468, Total: 0.0676\n",
      "Optimize Iteration: 800, J_p:  0.0203, J_d: 0.0452, Total: 0.0656\n",
      "Optimize Iteration: 900, J_p:  0.0200, J_d: 0.0429, Total: 0.0629\n",
      "Optimize Iteration: 1000, J_p:  0.0175, J_d: 0.0338, Total: 0.0513\n",
      "Optimize Iteration: 1100, J_p:  0.0084, J_d: 0.0083, Total: 0.0167\n",
      "Optimize Iteration: 1200, J_p:  0.0046, J_d: 0.0044, Total: 0.0089\n",
      "Optimize Iteration: 1300, J_p:  0.0040, J_d: 0.0019, Total: 0.0058\n",
      "Optimize Iteration: 1400, J_p:  0.0026, J_d: 0.0014, Total: 0.0040\n",
      "Optimize Iteration: 1500, J_p:  0.0022, J_d: 0.0012, Total: 0.0034\n",
      "Optimize Iteration: 1600, J_p:  0.0021, J_d: 0.0007, Total: 0.0028\n",
      "Optimize Iteration: 1700, J_p:  0.0015, J_d: 0.0007, Total: 0.0022\n",
      "Optimize Iteration: 1800, J_p:  0.0013, J_d: 0.0006, Total: 0.0019\n",
      "Optimize Iteration: 1900, J_p:  0.0010, J_d: 0.0005, Total: 0.0016\n",
      "Optimize Iteration: 2000, J_p:  0.0008, J_d: 0.0004, Total: 0.0012\n",
      "Optimize Iteration: 2100, J_p:  0.0007, J_d: 0.0003, Total: 0.0011\n",
      "Optimize Iteration: 2200, J_p:  0.0006, J_d: 0.0003, Total: 0.0009\n",
      "Optimize Iteration: 2300, J_p:  0.0005, J_d: 0.0002, Total: 0.0007\n",
      "Optimize Iteration: 2400, J_p:  0.0005, J_d: 0.0002, Total: 0.0007\n",
      "Optimize Iteration: 2500, J_p:  0.0004, J_d: 0.0002, Total: 0.0006\n",
      "Optimize Iteration: 2600, J_p:  0.0004, J_d: 0.0001, Total: 0.0005\n",
      "Optimize Iteration: 2700, J_p:  0.0003, J_d: 0.0001, Total: 0.0004\n",
      "Optimize Iteration: 2800, J_p:  0.0003, J_d: 0.0001, Total: 0.0004\n",
      "Optimize Iteration: 2900, J_p:  0.0003, J_d: 0.0001, Total: 0.0004\n",
      "Optimize Iteration: 3000, J_p:  0.0003, J_d: 0.0001, Total: 0.0004\n",
      "Optimize Iteration: 3100, J_p:  0.0002, J_d: 0.0001, Total: 0.0003\n",
      "Optimize Iteration: 3200, J_p:  0.0002, J_d: 0.0001, Total: 0.0003\n",
      "Optimize Iteration: 3300, J_p:  0.0002, J_d: 0.0001, Total: 0.0003\n",
      "Optimize Iteration: 3400, J_p:  0.0002, J_d: 0.0001, Total: 0.0002\n",
      "Optimize Iteration: 3500, J_p:  0.0002, J_d: 0.0001, Total: 0.0002\n",
      "Optimize Iteration: 3600, J_p:  0.0002, J_d: 0.0001, Total: 0.0002\n",
      "Optimize Iteration: 3700, J_p:  0.0001, J_d: 0.0001, Total: 0.0002\n",
      "Optimize Iteration: 3800, J_p:  0.0001, J_d: 0.0000, Total: 0.0002\n",
      "Optimize Iteration: 3900, J_p:  0.0001, J_d: 0.0000, Total: 0.0002\n",
      "Optimize Iteration: 4000, J_p:  0.0001, J_d: 0.0000, Total: 0.0002\n",
      "Optimize Iteration: 4100, J_p:  0.0001, J_d: 0.0000, Total: 0.0002\n",
      "Optimize Iteration: 4200, J_p:  0.0001, J_d: 0.0001, Total: 0.0001\n",
      "Optimize Iteration: 4300, J_p:  0.0001, J_d: 0.0000, Total: 0.0001\n"
     ]
    }
   ],
   "source": [
    "PINN_Opt = PINN_Optimizer()\n",
    "PINN_Opt.train()"
   ]
  },
  {
   "cell_type": "markdown",
   "metadata": {
    "id": "aZvbLlVIUMI1"
   },
   "source": [
    "## Visualization"
   ]
  },
  {
   "cell_type": "code",
   "execution_count": null,
   "metadata": {
    "id": "bwhTw_R0UPqO"
   },
   "outputs": [],
   "source": [
    "x_coll, t_coll, x_bc, t_bc, u_bc = dataset_gen(0.01) # We only tran in gap=0.1 but,\n",
    "\n",
    "data_coll = torch.stack([x_coll.requires_grad_(True),\n",
    "                         t_coll.requires_grad_(True)], dim=-1).to(device)\n",
    "\n",
    "trained_model = PINN_Opt.model\n",
    "trained_model.eval()\n",
    "with torch.no_grad():\n",
    "    y_pred = trained_model(data_coll)"
   ]
  },
  {
   "cell_type": "code",
   "execution_count": null,
   "metadata": {
    "colab": {
     "base_uri": "https://localhost:8080/",
     "height": 428
    },
    "executionInfo": {
     "elapsed": 556,
     "status": "ok",
     "timestamp": 1744133164836,
     "user": {
      "displayName": "Jaeyong Bae",
      "userId": "11305730805053138698"
     },
     "user_tz": -540
    },
    "id": "mOXBOPkRpNrk",
    "outputId": "40c9e706-ceaf-4331-d572-315e25c75e4d"
   },
   "outputs": [
    {
     "data": {
      "image/png": "[encoded data removed]",
      "text/plain": [
       "<Figure size 750x450 with 1 Axes>"
      ]
     },
     "metadata": {},
     "output_type": "display_data"
    }
   ],
   "source": [
    "x = tdn(x_coll)\n",
    "t = tdn(t_coll)\n",
    "c = tdn(y_pred)\n",
    "\n",
    "\n",
    "plt.figure(figsize=(5, 3), dpi=150)\n",
    "plt.scatter(t, x, c=c, cmap='jet')\n",
    "plt.show()"
   ]
  },
  {
   "cell_type": "markdown",
   "metadata": {
    "collapsed": false,
    "id": "Lo0wSkxApNrl"
   },
   "source": [
    "# (Optional) Stochastic Process & PDE"
   ]
  },
  {
   "cell_type": "markdown",
   "metadata": {
    "collapsed": false,
    "id": "ERA8XoFHpNrl"
   },
   "source": [
    "## Example: Heat Equation\n",
    "\n",
    "\\begin{equation}\n",
    "\\cfrac{\\partial u}{\\partial t}(x,t) = \\nabla^2 u(x,t), \\quad u(x,0) = ||x||^2\n",
    "\\end{equation}\n",
    "\n",
    "Let's match with below partial differential equation\n",
    "\\begin{equation}\n",
    "\\cfrac{\\partial u}{\\partial t}(x,t) - \\mu(x,t) \\cfrac{\\partial u}{\\partial x}(x,t) - \\cfrac{1}{2}\\sigma^2(x,t) \\cfrac{\\partial^2 u}{\\partial x^2}(x,t) = 0\n",
    "\\end{equation}\n",
    "\n",
    "Then, the problem is initial value problem with $\\mu(x,t)=0, \\sigma(x,t)=\\sqrt{2}$ under domain $x\\in \\mathcal{D} \\equiv [0,1]$"
   ]
  },
  {
   "cell_type": "markdown",
   "metadata": {
    "collapsed": false,
    "id": "yBmFzAKSpNrl"
   },
   "source": [
    "## 1. Generation of training data\n",
    "We can generate solution of partial differential equation via random process.\n",
    "\n",
    "since $\\mu=0$, we can simply generate random process $X$, as follows\n",
    "\n",
    "\\begin{equation}\n",
    "\\therefore X(T) := X(0) + \\sigma \\sqrt{T}\\xi, \\quad X(0)=x_0 \\sim \\mathcal{U}(D), \\quad \\text{where} \\quad \\xi \\sim \\mathcal{N}(0,1)\n",
    "\\end{equation}\n",
    "\n",
    "Then, by define $g(x)\\equiv u(x,0)$ (fixed time) we can access differential equation's solution by\n",
    "\\begin{equation}\n",
    "u(x, T-t) = \\mathbb{E}[g(X(T))|X(t)=x] \\Rightarrow u(x_0,T) \\approx \\cfrac{1}{n} {\\sum^n} g(X(T)) = \\mathbb{E}[y]\n",
    "\\end{equation}"
   ]
  },
  {
   "cell_type": "code",
   "execution_count": null,
   "metadata": {
    "id": "Vv6NEsw4HCBP"
   },
   "outputs": [],
   "source": [
    "def draw_X(num_samples, T=1):\n",
    "    dim = 1\n",
    "    X0 = torch.rand(size=(num_samples,dim))\n",
    "\n",
    "    noise = torch.randn(size=(num_samples,dim))\n",
    "\n",
    "    XT = X0 + np.sqrt(2) * np.sqrt(T) * noise\n",
    "\n",
    "    # Return simulated paths as well as increments of Brownian motion\n",
    "    return X0, XT\n",
    "\n",
    "# initial condition, g(x) = u(x,t=0)\n",
    "def fun_g(x):\n",
    "    return torch.sum(x**2, dim=-1).unsqueeze(1)"
   ]
  },
  {
   "cell_type": "markdown",
   "metadata": {
    "collapsed": false,
    "id": "qw28u9GdpNrl"
   },
   "source": [
    "## 2. Define Simple Neural Network"
   ]
  },
  {
   "cell_type": "code",
   "execution_count": null,
   "metadata": {
    "id": "J5cJh0e_pNrl"
   },
   "outputs": [],
   "source": [
    "import torch.nn as nn\n",
    "\n",
    "class NN(nn.Module):\n",
    "    def __init__(self):\n",
    "        super(NN, self).__init__()\n",
    "\n",
    "        self.fc1 = nn.Linear(1, 20)\n",
    "\n",
    "        self.fc2 = nn.Linear(20, 20)\n",
    "        self.fc3 = nn.Linear(20, 20)\n",
    "\n",
    "        self.fc = nn.Linear(20, 1)\n",
    "        self.activation = nn.Tanh()\n",
    "\n",
    "    def forward(self, x):\n",
    "        x = self.fc1(x)\n",
    "        x = self.activation(x)\n",
    "        x = self.fc2(x)\n",
    "        x = self.activation(x)\n",
    "        x = self.fc3(x)\n",
    "        x = self.activation(x)\n",
    "        x = self.fc(x)\n",
    "\n",
    "        return x\n"
   ]
  },
  {
   "cell_type": "markdown",
   "metadata": {
    "collapsed": false,
    "id": "Ef82JvwUpNrl"
   },
   "source": [
    "## 3. Define objective (Loss) function\n",
    "From $u(x, T-t) = \\mathbb{E}[g(X(T))|X(t)=x]$, If we approximate the function $u(x,T)$ as neural network $u_\\theta$, the objective function is simply define as follows\n",
    "\n",
    "\\begin{equation}\n",
    "\\cfrac{1}{N}\\sum^N || u_\\theta(x,T)-\\mathbb{E}[g(X(T))|X(t=0)=x]||^2\n",
    "\\end{equation}"
   ]
  },
  {
   "cell_type": "code",
   "execution_count": null,
   "metadata": {
    "id": "xvjMDHnypNrl"
   },
   "outputs": [],
   "source": [
    "def loss_func(u_pred, u_true):\n",
    "    if u_pred.size()==u_true.size():\n",
    "        pass\n",
    "    else:\n",
    "        raise TypeError\n",
    "    return torch.mean((u_pred-u_true)**2)"
   ]
  },
  {
   "cell_type": "markdown",
   "metadata": {
    "collapsed": false,
    "id": "L_r5w9GQpNrl"
   },
   "source": [
    "## 4. Training"
   ]
  },
  {
   "cell_type": "code",
   "execution_count": null,
   "metadata": {
    "colab": {
     "base_uri": "https://localhost:8080/"
    },
    "executionInfo": {
     "elapsed": 9759,
     "status": "ok",
     "timestamp": 1744133174598,
     "user": {
      "displayName": "Jaeyong Bae",
      "userId": "11305730805053138698"
     },
     "user_tz": -540
    },
    "id": "d1XuSp5gpNrl",
    "outputId": "63461afa-ee30-4630-8695-edcd0e54bb30"
   },
   "outputs": [
    {
     "name": "stdout",
     "output_type": "stream",
     "text": [
      "Epoch [1000/5000], Loss: 10.040108\n",
      "Epoch [2000/5000], Loss: 9.841575\n",
      "Epoch [3000/5000], Loss: 10.683661\n",
      "Epoch [4000/5000], Loss: 10.843809\n",
      "Epoch [5000/5000], Loss: 11.582214\n"
     ]
    }
   ],
   "source": [
    "model = NN()\n",
    "model.to(device)\n",
    "optimizer = torch.optim.Adam(model.parameters(), lr=0.001)\n",
    "\n",
    "\n",
    "model.train()\n",
    "num_epochs = 5000\n",
    "for epoch in range(num_epochs):\n",
    "    optimizer.zero_grad()\n",
    "\n",
    "\n",
    "    X0, XT = draw_X(num_samples=2500)\n",
    "    u_x_T = model(X0.to(device))\n",
    "    g_X_T = fun_g(XT.to(device))\n",
    "\n",
    "    loss = loss_func(u_x_T, g_X_T)\n",
    "\n",
    "    loss.backward()\n",
    "    optimizer.step()\n",
    "\n",
    "    if (epoch + 1) % 1000 == 0:\n",
    "        print(f'Epoch [{epoch+1}/{num_epochs}], Loss: {loss.item():.6f}')\n"
   ]
  },
  {
   "cell_type": "markdown",
   "metadata": {
    "collapsed": false,
    "id": "7AdyRxkWpNrl"
   },
   "source": [
    "## Visualization"
   ]
  },
  {
   "cell_type": "code",
   "execution_count": null,
   "metadata": {
    "id": "mq63M8t0pNrl"
   },
   "outputs": [],
   "source": [
    "x = torch.arange(0, 1+0.01, 0.01).view(-1,1)\n",
    "model.eval()\n",
    "with torch.no_grad():\n",
    "    u_T = model(x.to(device))"
   ]
  },
  {
   "cell_type": "code",
   "execution_count": null,
   "metadata": {
    "id": "2JIPEJajpNrl"
   },
   "outputs": [],
   "source": [
    "## simple exact solution\n",
    "def fun_u_T(x, T=1):\n",
    "    return torch.sum(x**2, dim=-1) + 2 * T"
   ]
  },
  {
   "cell_type": "code",
   "execution_count": null,
   "metadata": {
    "colab": {
     "base_uri": "https://localhost:8080/"
    },
    "executionInfo": {
     "elapsed": 123,
     "status": "ok",
     "timestamp": 1744133174731,
     "user": {
      "displayName": "Jaeyong Bae",
      "userId": "11305730805053138698"
     },
     "user_tz": -540
    },
    "id": "qz3Wt8m_pNrl",
    "outputId": "c6cab3a1-b560-48ac-b807-a1c14f788572"
   },
   "outputs": [
    {
     "data": {
      "image/png": "[encoded data removed]",
      "text/plain": [
       "<Figure size 640x480 with 1 Axes>"
      ]
     },
     "metadata": {},
     "output_type": "display_data"
    }
   ],
   "source": [
    "plt.plot(tdn(x), tdn(u_T), label=\"NN results\")\n",
    "plt.plot(tdn(x), tdn(fun_u_T(x)), label=\"Exact Solution\")\n",
    "plt.legend()\n",
    "plt.show()"
   ]
  }
 ],
 "metadata": {
  "accelerator": "GPU",
  "colab": {
   "collapsed_sections": [
    "Yy6JnbJp7Hui",
    "Lo0wSkxApNrl"
   ],
   "gpuType": "T4",
   "provenance": []
  },
  "kernelspec": {
   "display_name": "Python 3",
   "language": "python",
   "name": "python3"
  },
  "language_info": {
   "codemirror_mode": {
    "name": "ipython",
    "version": 3
   },
   "file_extension": ".py",
   "mimetype": "text/x-python",
   "name": "python",
   "nbconvert_exporter": "python",
   "pygments_lexer": "ipython3",
   "version": "3.12.9"
  }
 },
 "nbformat": 4,
 "nbformat_minor": 0
}
